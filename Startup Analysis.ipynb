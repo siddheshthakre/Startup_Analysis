{
 "cells": [
  {
   "cell_type": "code",
   "execution_count": 1,
   "metadata": {},
   "outputs": [],
   "source": [
    "#Importing libraries\n",
    "import numpy as np\n",
    "import pandas as pd\n",
    "import matplotlib.pyplot as plt\n",
    "import seaborn as sns\n",
    "%matplotlib inline\n",
    "import warnings\n",
    "warnings.filterwarnings('ignore')\n",
    "import datetime as dt"
   ]
  },
  {
   "cell_type": "code",
   "execution_count": 2,
   "metadata": {},
   "outputs": [],
   "source": [
    "#Reading csv file using pandas\n",
    "df=pd.read_csv('hack_startup_funding.csv')"
   ]
  },
  {
   "cell_type": "code",
   "execution_count": 3,
   "metadata": {
    "scrolled": true
   },
   "outputs": [
    {
     "data": {
      "text/html": [
       "<div>\n",
       "<style scoped>\n",
       "    .dataframe tbody tr th:only-of-type {\n",
       "        vertical-align: middle;\n",
       "    }\n",
       "\n",
       "    .dataframe tbody tr th {\n",
       "        vertical-align: top;\n",
       "    }\n",
       "\n",
       "    .dataframe thead th {\n",
       "        text-align: right;\n",
       "    }\n",
       "</style>\n",
       "<table border=\"1\" class=\"dataframe\">\n",
       "  <thead>\n",
       "    <tr style=\"text-align: right;\">\n",
       "      <th></th>\n",
       "      <th>SNo</th>\n",
       "      <th>Date</th>\n",
       "      <th>StartupName</th>\n",
       "      <th>IndustryVertical</th>\n",
       "      <th>SubVertical</th>\n",
       "      <th>CityLocation</th>\n",
       "      <th>InvestorsName</th>\n",
       "      <th>InvestmentType</th>\n",
       "      <th>AmountInUSD</th>\n",
       "      <th>Remarks</th>\n",
       "    </tr>\n",
       "  </thead>\n",
       "  <tbody>\n",
       "    <tr>\n",
       "      <th>0</th>\n",
       "      <td>0</td>\n",
       "      <td>01/08/2017</td>\n",
       "      <td>TouchKin</td>\n",
       "      <td>Technology</td>\n",
       "      <td>Predictive Care Platform</td>\n",
       "      <td>Bangalore</td>\n",
       "      <td>Kae Capital</td>\n",
       "      <td>Private Equity</td>\n",
       "      <td>1,300,000</td>\n",
       "      <td>NaN</td>\n",
       "    </tr>\n",
       "    <tr>\n",
       "      <th>1</th>\n",
       "      <td>1</td>\n",
       "      <td>02/08/2017</td>\n",
       "      <td>Ethinos</td>\n",
       "      <td>Technology</td>\n",
       "      <td>Digital Marketing Agency</td>\n",
       "      <td>Mumbai</td>\n",
       "      <td>Triton Investment Advisors</td>\n",
       "      <td>Private Equity</td>\n",
       "      <td>NaN</td>\n",
       "      <td>NaN</td>\n",
       "    </tr>\n",
       "    <tr>\n",
       "      <th>2</th>\n",
       "      <td>2</td>\n",
       "      <td>02/08/2017</td>\n",
       "      <td>Leverage Edu</td>\n",
       "      <td>Consumer Internet</td>\n",
       "      <td>Online platform for Higher Education Services</td>\n",
       "      <td>New Delhi</td>\n",
       "      <td>Kashyap Deorah, Anand Sankeshwar, Deepak Jain,...</td>\n",
       "      <td>Seed Funding</td>\n",
       "      <td>NaN</td>\n",
       "      <td>NaN</td>\n",
       "    </tr>\n",
       "    <tr>\n",
       "      <th>3</th>\n",
       "      <td>3</td>\n",
       "      <td>02/08/2017</td>\n",
       "      <td>Zepo</td>\n",
       "      <td>Consumer Internet</td>\n",
       "      <td>DIY Ecommerce platform</td>\n",
       "      <td>Mumbai</td>\n",
       "      <td>Kunal Shah, LetsVenture, Anupam Mittal, Hetal ...</td>\n",
       "      <td>Seed Funding</td>\n",
       "      <td>500,000</td>\n",
       "      <td>NaN</td>\n",
       "    </tr>\n",
       "    <tr>\n",
       "      <th>4</th>\n",
       "      <td>4</td>\n",
       "      <td>02/08/2017</td>\n",
       "      <td>Click2Clinic</td>\n",
       "      <td>Consumer Internet</td>\n",
       "      <td>healthcare service aggregator</td>\n",
       "      <td>Hyderabad</td>\n",
       "      <td>Narottam Thudi, Shireesh Palle</td>\n",
       "      <td>Seed Funding</td>\n",
       "      <td>850,000</td>\n",
       "      <td>NaN</td>\n",
       "    </tr>\n",
       "  </tbody>\n",
       "</table>\n",
       "</div>"
      ],
      "text/plain": [
       "   SNo        Date   StartupName   IndustryVertical  \\\n",
       "0    0  01/08/2017      TouchKin         Technology   \n",
       "1    1  02/08/2017       Ethinos         Technology   \n",
       "2    2  02/08/2017  Leverage Edu  Consumer Internet   \n",
       "3    3  02/08/2017          Zepo  Consumer Internet   \n",
       "4    4  02/08/2017  Click2Clinic  Consumer Internet   \n",
       "\n",
       "                                     SubVertical CityLocation  \\\n",
       "0                       Predictive Care Platform    Bangalore   \n",
       "1                       Digital Marketing Agency       Mumbai   \n",
       "2  Online platform for Higher Education Services    New Delhi   \n",
       "3                         DIY Ecommerce platform       Mumbai   \n",
       "4                  healthcare service aggregator    Hyderabad   \n",
       "\n",
       "                                       InvestorsName  InvestmentType  \\\n",
       "0                                        Kae Capital  Private Equity   \n",
       "1                         Triton Investment Advisors  Private Equity   \n",
       "2  Kashyap Deorah, Anand Sankeshwar, Deepak Jain,...    Seed Funding   \n",
       "3  Kunal Shah, LetsVenture, Anupam Mittal, Hetal ...    Seed Funding   \n",
       "4                     Narottam Thudi, Shireesh Palle    Seed Funding   \n",
       "\n",
       "  AmountInUSD Remarks  \n",
       "0   1,300,000     NaN  \n",
       "1         NaN     NaN  \n",
       "2         NaN     NaN  \n",
       "3     500,000     NaN  \n",
       "4     850,000     NaN  "
      ]
     },
     "execution_count": 3,
     "metadata": {},
     "output_type": "execute_result"
    }
   ],
   "source": [
    "#Checking the head files\n",
    "df.head()"
   ]
  },
  {
   "cell_type": "markdown",
   "metadata": {},
   "source": [
    "#### Possible questions which could be answered are:\n",
    "#### ● How does the funding ecosystem change with time?\n",
    "#### ● Do cities play a major role in funding?\n",
    "#### ● Which industries are favored by investors for funding?\n",
    "#### ● Who are the important investors in the Indian Ecosystem?\n",
    "#### ● How much funds do startups generally get in India?"
   ]
  },
  {
   "cell_type": "code",
   "execution_count": 4,
   "metadata": {},
   "outputs": [],
   "source": [
    "#Droppin irrelevant columns\n",
    "df.drop(['SNo','Remarks'],axis=1,inplace=True)"
   ]
  },
  {
   "cell_type": "code",
   "execution_count": 5,
   "metadata": {},
   "outputs": [
    {
     "data": {
      "text/html": [
       "<div>\n",
       "<style scoped>\n",
       "    .dataframe tbody tr th:only-of-type {\n",
       "        vertical-align: middle;\n",
       "    }\n",
       "\n",
       "    .dataframe tbody tr th {\n",
       "        vertical-align: top;\n",
       "    }\n",
       "\n",
       "    .dataframe thead th {\n",
       "        text-align: right;\n",
       "    }\n",
       "</style>\n",
       "<table border=\"1\" class=\"dataframe\">\n",
       "  <thead>\n",
       "    <tr style=\"text-align: right;\">\n",
       "      <th></th>\n",
       "      <th>Date</th>\n",
       "      <th>StartupName</th>\n",
       "      <th>IndustryVertical</th>\n",
       "      <th>SubVertical</th>\n",
       "      <th>CityLocation</th>\n",
       "      <th>InvestorsName</th>\n",
       "      <th>InvestmentType</th>\n",
       "      <th>AmountInUSD</th>\n",
       "    </tr>\n",
       "  </thead>\n",
       "  <tbody>\n",
       "    <tr>\n",
       "      <th>0</th>\n",
       "      <td>01/08/2017</td>\n",
       "      <td>TouchKin</td>\n",
       "      <td>Technology</td>\n",
       "      <td>Predictive Care Platform</td>\n",
       "      <td>Bangalore</td>\n",
       "      <td>Kae Capital</td>\n",
       "      <td>Private Equity</td>\n",
       "      <td>1,300,000</td>\n",
       "    </tr>\n",
       "    <tr>\n",
       "      <th>1</th>\n",
       "      <td>02/08/2017</td>\n",
       "      <td>Ethinos</td>\n",
       "      <td>Technology</td>\n",
       "      <td>Digital Marketing Agency</td>\n",
       "      <td>Mumbai</td>\n",
       "      <td>Triton Investment Advisors</td>\n",
       "      <td>Private Equity</td>\n",
       "      <td>NaN</td>\n",
       "    </tr>\n",
       "    <tr>\n",
       "      <th>2</th>\n",
       "      <td>02/08/2017</td>\n",
       "      <td>Leverage Edu</td>\n",
       "      <td>Consumer Internet</td>\n",
       "      <td>Online platform for Higher Education Services</td>\n",
       "      <td>New Delhi</td>\n",
       "      <td>Kashyap Deorah, Anand Sankeshwar, Deepak Jain,...</td>\n",
       "      <td>Seed Funding</td>\n",
       "      <td>NaN</td>\n",
       "    </tr>\n",
       "    <tr>\n",
       "      <th>3</th>\n",
       "      <td>02/08/2017</td>\n",
       "      <td>Zepo</td>\n",
       "      <td>Consumer Internet</td>\n",
       "      <td>DIY Ecommerce platform</td>\n",
       "      <td>Mumbai</td>\n",
       "      <td>Kunal Shah, LetsVenture, Anupam Mittal, Hetal ...</td>\n",
       "      <td>Seed Funding</td>\n",
       "      <td>500,000</td>\n",
       "    </tr>\n",
       "    <tr>\n",
       "      <th>4</th>\n",
       "      <td>02/08/2017</td>\n",
       "      <td>Click2Clinic</td>\n",
       "      <td>Consumer Internet</td>\n",
       "      <td>healthcare service aggregator</td>\n",
       "      <td>Hyderabad</td>\n",
       "      <td>Narottam Thudi, Shireesh Palle</td>\n",
       "      <td>Seed Funding</td>\n",
       "      <td>850,000</td>\n",
       "    </tr>\n",
       "  </tbody>\n",
       "</table>\n",
       "</div>"
      ],
      "text/plain": [
       "         Date   StartupName   IndustryVertical  \\\n",
       "0  01/08/2017      TouchKin         Technology   \n",
       "1  02/08/2017       Ethinos         Technology   \n",
       "2  02/08/2017  Leverage Edu  Consumer Internet   \n",
       "3  02/08/2017          Zepo  Consumer Internet   \n",
       "4  02/08/2017  Click2Clinic  Consumer Internet   \n",
       "\n",
       "                                     SubVertical CityLocation  \\\n",
       "0                       Predictive Care Platform    Bangalore   \n",
       "1                       Digital Marketing Agency       Mumbai   \n",
       "2  Online platform for Higher Education Services    New Delhi   \n",
       "3                         DIY Ecommerce platform       Mumbai   \n",
       "4                  healthcare service aggregator    Hyderabad   \n",
       "\n",
       "                                       InvestorsName  InvestmentType  \\\n",
       "0                                        Kae Capital  Private Equity   \n",
       "1                         Triton Investment Advisors  Private Equity   \n",
       "2  Kashyap Deorah, Anand Sankeshwar, Deepak Jain,...    Seed Funding   \n",
       "3  Kunal Shah, LetsVenture, Anupam Mittal, Hetal ...    Seed Funding   \n",
       "4                     Narottam Thudi, Shireesh Palle    Seed Funding   \n",
       "\n",
       "  AmountInUSD  \n",
       "0   1,300,000  \n",
       "1         NaN  \n",
       "2         NaN  \n",
       "3     500,000  \n",
       "4     850,000  "
      ]
     },
     "execution_count": 5,
     "metadata": {},
     "output_type": "execute_result"
    }
   ],
   "source": [
    "#Checking data again\n",
    "df.head()"
   ]
  },
  {
   "cell_type": "markdown",
   "metadata": {},
   "source": [
    "## Except dates and amount in usd columns all other features are categorical\n",
    "## We will take each row engineer them and do eda "
   ]
  },
  {
   "cell_type": "markdown",
   "metadata": {},
   "source": [
    "### 1) Date"
   ]
  },
  {
   "cell_type": "code",
   "execution_count": 6,
   "metadata": {},
   "outputs": [],
   "source": [
    "#First step is to convert object into date time to do this we need to first structure the data\n",
    "df['Date']=df['Date'].replace({\"12/05.2015\":\"12/05/2015\"})\n",
    "df['Date']=df['Date'].replace({\"13/04.2015\":\"13/04/2015\"})\n",
    "df['Date']=df['Date'].replace({\"22/01//2015\":\"22/01/2015\"})\n",
    "df['Date']=df['Date'].replace({\"15/01.2015\":\"15/01/2015\"})"
   ]
  },
  {
   "cell_type": "code",
   "execution_count": 7,
   "metadata": {},
   "outputs": [],
   "source": [
    "#Converting date column into type date\n",
    "df['Date']=pd.to_datetime(df['Date'])"
   ]
  },
  {
   "cell_type": "code",
   "execution_count": 8,
   "metadata": {},
   "outputs": [],
   "source": [
    "#Extracting month from date column\n",
    "df['month']=df['Date'].dt.month"
   ]
  },
  {
   "cell_type": "code",
   "execution_count": 9,
   "metadata": {},
   "outputs": [],
   "source": [
    "#Extracting year from date column\n",
    "\n",
    "df['year']=df['Date'].dt.year"
   ]
  },
  {
   "cell_type": "code",
   "execution_count": 10,
   "metadata": {},
   "outputs": [],
   "source": [
    "#Extracting year from date column\n",
    "\n",
    "df['quarter']=df['Date'].dt.quarter"
   ]
  },
  {
   "cell_type": "code",
   "execution_count": 11,
   "metadata": {},
   "outputs": [],
   "source": [
    "#Extracting days from date column\n",
    "\n",
    "df['day']=df['Date'].dt.day"
   ]
  },
  {
   "cell_type": "code",
   "execution_count": 12,
   "metadata": {},
   "outputs": [],
   "source": [
    "#Combining year and month together\n",
    "df[\"yearmonth\"] = (pd.to_datetime(df['Date'],format='%d/%m/%Y').dt.year*100)+ (pd.to_datetime(df['Date'],format='%d/%m/%Y').dt.month)"
   ]
  },
  {
   "cell_type": "code",
   "execution_count": 13,
   "metadata": {},
   "outputs": [],
   "source": [
    "year_month = df['yearmonth'].dropna().value_counts()"
   ]
  },
  {
   "cell_type": "code",
   "execution_count": 14,
   "metadata": {},
   "outputs": [],
   "source": [
    "#Dropping date column as we have all the information extracted\n",
    "df.drop('Date',axis=1,inplace=True)"
   ]
  },
  {
   "cell_type": "code",
   "execution_count": 15,
   "metadata": {},
   "outputs": [],
   "source": [
    "#Calculating percentage of all the date categories for eda\n",
    "year=df['year'].value_counts()/len(df['year'])*100\n",
    "month=df['month'].value_counts()/len(df['month'])*100\n",
    "quarter=df['quarter'].value_counts()/len(df['quarter'])*100\n",
    "day=df['day'].value_counts()/len(df['day'])*100"
   ]
  },
  {
   "cell_type": "markdown",
   "metadata": {},
   "source": [
    "#### ● How does the funding ecosystem change with time?\n"
   ]
  },
  {
   "cell_type": "code",
   "execution_count": 16,
   "metadata": {},
   "outputs": [
    {
     "data": {
      "image/png": "[encoded data removed]",
      "text/plain": [
       "<matplotlib.figure.Figure at 0x1defa0586d8>"
      ]
     },
     "metadata": {},
     "output_type": "display_data"
    }
   ],
   "source": [
    "#Plotting funding according to its timeline\n",
    "plt.figure(figsize=(15,8))\n",
    "sns.barplot(year_month.index, year_month.values, alpha=0.9,color='skyblue')\n",
    "\n",
    "plt.xticks(rotation='vertical')\n",
    "plt.xlabel('Year-Month ', fontsize=18)\n",
    "plt.ylabel('Number of fundings made', fontsize=18)\n",
    "plt.title(\"Year-Month - Number of Funding Distribution\", fontsize=20)\n",
    "plt.show()\n",
    "#There seems to be no trend in the amount of funding that has been made\n",
    "#but from 201612 to 201712 the funding has been gradually dropped"
   ]
  },
  {
   "cell_type": "code",
   "execution_count": 17,
   "metadata": {
    "scrolled": false
   },
   "outputs": [
    {
     "data": {
      "image/png": "[encoded data removed]",
      "text/plain": [
       "<matplotlib.figure.Figure at 0x1defa3d16d8>"
      ]
     },
     "metadata": {},
     "output_type": "display_data"
    }
   ],
   "source": [
    "#Checking if there is trend in investment as per month\n",
    "plt.figure(figsize=(10,4))\n",
    "sns.barplot(month.index, month.values, alpha=0.9,color='skyblue')\n",
    "plt.title('Investment per month',fontsize=25)\n",
    "plt.xlabel('Month',fontsize=17)\n",
    "plt.ylabel('Number of investments',fontsize=17)\n",
    "plt.xticks(fontsize=13)\n",
    "plt.yticks(fontsize=13)\n",
    "plt.show()\n",
    "#There does not seem to be any trend but January and June seems to have the most number of investments"
   ]
  },
  {
   "cell_type": "code",
   "execution_count": 18,
   "metadata": {},
   "outputs": [
    {
     "data": {
      "image/png": "[encoded data removed]",
      "text/plain": [
       "<matplotlib.figure.Figure at 0x1defa482a20>"
      ]
     },
     "metadata": {},
     "output_type": "display_data"
    }
   ],
   "source": [
    "#PLotting funding frequency according to year\n",
    "plt.figure(figsize=(7,6))\n",
    "sns.barplot(year.index, year.values, alpha=0.9,color='skyblue')\n",
    "plt.title('Investment per year',fontsize=19)\n",
    "plt.xlabel('Year',fontsize=16)\n",
    "plt.ylabel('Number of investments',fontsize=16)\n",
    "plt.xticks(fontsize=12)\n",
    "plt.yticks(fontsize=12)\n",
    "plt.show()\n",
    "#It looks like funding has increased from 2015 to 2016. \n",
    "#It makes sense if the funding for 2017 will be greater than 2016\n",
    "#But we have data for 2017 till october so we cannot really say if the investment has increased after 2017. \n",
    "#According to this data, investment has dropped from 39.6% to 18.6% from 2016 to 2017\n"
   ]
  },
  {
   "cell_type": "code",
   "execution_count": 19,
   "metadata": {},
   "outputs": [
    {
     "data": {
      "image/png": "[encoded data removed]",
      "text/plain": [
       "<matplotlib.figure.Figure at 0x1defa581748>"
      ]
     },
     "metadata": {},
     "output_type": "display_data"
    }
   ],
   "source": [
    "#Plotting funding frequency according to the quarter\n",
    "plt.figure(figsize=(7,4))\n",
    "sns.barplot(quarter.index, quarter.values, alpha=0.9,color='skyblue')\n",
    "plt.title(\"Investments per quarter\",fontsize=18)\n",
    "plt.xlabel('Quarter',fontsize=16)\n",
    "plt.ylabel('Number of investment',fontsize=16)\n",
    "plt.xticks(fontsize=14)\n",
    "plt.yticks(fontsize=11)\n",
    "plt.show()\n",
    "#First 2 quarter seems to have slightly more funding than 3rd and 4th quarter"
   ]
  },
  {
   "cell_type": "code",
   "execution_count": null,
   "metadata": {},
   "outputs": [],
   "source": []
  },
  {
   "cell_type": "markdown",
   "metadata": {},
   "source": [
    "### 2) AmountInUSD"
   ]
  },
  {
   "cell_type": "code",
   "execution_count": 20,
   "metadata": {},
   "outputs": [],
   "source": [
    "#Cleaning the target variable\n",
    "df['AmountInUSD']=(df['AmountInUSD'].str.replace(',','')).astype('float')"
   ]
  },
  {
   "cell_type": "code",
   "execution_count": 21,
   "metadata": {
    "scrolled": true
   },
   "outputs": [
    {
     "name": "stdout",
     "output_type": "stream",
     "text": [
      "Confidence point:- 12031073.1\n",
      "From:- 8814823.9\n",
      "To:- 15247322.3\n",
      "Range:- 6432498.41\n"
     ]
    }
   ],
   "source": [
    "#Making a function which gives 95% confidence point and interval, also the range between the lower and upper value.\n",
    "import scipy.stats as stats\n",
    "\n",
    "def mean_confidence_interval(data, confidence=0.95):\n",
    "    a = 1.0 * np.array(data)\n",
    "    n = len(a)\n",
    "    m, se = np.mean(a), stats.sem(a)\n",
    "    h = se * stats.t.ppf((1 + confidence) / 2., n-1)\n",
    "    print('Confidence point:-',np.around(m,decimals=2))\n",
    "    print('From:-',(np.around(m-h,decimals=2)))\n",
    "    print('To:-',np.around(m+h,decimals=2))\n",
    "    print('Range:-',(np.around((m+h)-(m-h),decimals=2)))\n",
    "    \n",
    "\n",
    "#Calculating 95% confidence interval for out target variable\n",
    "mean_confidence_interval(df['AmountInUSD'].dropna())"
   ]
  },
  {
   "cell_type": "code",
   "execution_count": null,
   "metadata": {},
   "outputs": [],
   "source": []
  },
  {
   "cell_type": "code",
   "execution_count": null,
   "metadata": {},
   "outputs": [],
   "source": []
  },
  {
   "cell_type": "code",
   "execution_count": 22,
   "metadata": {
    "scrolled": true
   },
   "outputs": [
    {
     "name": "stdout",
     "output_type": "stream",
     "text": [
      "2016\n",
      "******************************\n",
      "Confidence point:- 6532574.42\n",
      "From:- 4944105.32\n",
      "To:- 8121043.51\n",
      "Range:- 3176938.19\n",
      "\n",
      "\n",
      "2015\n",
      "******************************\n",
      "Confidence point:- 13261502.09\n",
      "From:- 9198794.18\n",
      "To:- 17324210.0\n",
      "Range:- 8125415.83\n",
      "\n",
      "\n",
      "2017\n",
      "******************************\n",
      "Confidence point:- 20513247.37\n",
      "From:- 6407395.9\n",
      "To:- 34619098.83\n",
      "Range:- 28211702.93\n",
      "\n",
      "\n"
     ]
    }
   ],
   "source": [
    "#Printing confidence interval as per year\n",
    "for x in df['year'].value_counts().index:\n",
    "    print(x)\n",
    "    print('*'*30)\n",
    "    mean_confidence_interval((df['AmountInUSD'][df['year']==x]).dropna())\n",
    "    print('\\n')"
   ]
  },
  {
   "cell_type": "code",
   "execution_count": 23,
   "metadata": {
    "scrolled": true
   },
   "outputs": [
    {
     "name": "stdout",
     "output_type": "stream",
     "text": [
      "StartupName\n",
      "******************************\n",
      "Swiggy\n",
      "******************************\n",
      "Confidence point:- 24357142.86\n",
      "From:- -249539.84\n",
      "To:- 48963825.55\n",
      "Range:- 49213365.39\n",
      "\n",
      "\n",
      "******************************\n",
      "UrbanClap\n",
      "******************************\n",
      "Confidence point:- 12140000.0\n",
      "From:- -901491.99\n",
      "To:- 25181491.99\n",
      "Range:- 26082983.98\n",
      "\n",
      "\n",
      "******************************\n",
      "Paytm\n",
      "******************************\n",
      "Confidence point:- 713333333.33\n",
      "From:- -952583079.06\n",
      "To:- 2379249745.73\n",
      "Range:- 3331832824.79\n",
      "\n",
      "\n",
      "IndustryVertical\n",
      "******************************\n",
      "Consumer Internet\n",
      "******************************\n",
      "Confidence point:- 8236635.57\n",
      "From:- 5589371.46\n",
      "To:- 10883899.69\n",
      "Range:- 5294528.23\n",
      "\n",
      "\n",
      "******************************\n",
      "Technology\n",
      "******************************\n",
      "Confidence point:- 5839119.05\n",
      "From:- 3858374.24\n",
      "To:- 7819863.85\n",
      "Range:- 3961489.61\n",
      "\n",
      "\n",
      "******************************\n",
      "eCommerce\n",
      "******************************\n",
      "Confidence point:- 21616920.35\n",
      "From:- -3224610.36\n",
      "To:- 46458451.07\n",
      "Range:- 49683061.42\n",
      "\n",
      "\n",
      "SubVertical\n",
      "******************************\n",
      "Online Pharmacy\n",
      "******************************\n",
      "Confidence point:- 13250000.0\n",
      "From:- 4213589.56\n",
      "To:- 22286410.44\n",
      "Range:- 18072820.88\n",
      "\n",
      "\n",
      "******************************\n",
      "Food Delivery Platform\n",
      "******************************\n",
      "Confidence point:- 2875000.0\n",
      "From:- -1826294.77\n",
      "To:- 7576294.77\n",
      "Range:- 9402589.54\n",
      "\n",
      "\n",
      "******************************\n",
      "Online lending platform\n",
      "******************************\n",
      "Confidence point:- 4287500.0\n",
      "From:- -2152655.05\n",
      "To:- 10727655.05\n",
      "Range:- 12880310.1\n",
      "\n",
      "\n",
      "CityLocation\n",
      "******************************\n",
      "Bangalore\n",
      "******************************\n",
      "Confidence point:- 20700676.81\n",
      "From:- 9788852.01\n",
      "To:- 31612501.61\n",
      "Range:- 21823649.6\n",
      "\n",
      "\n",
      "******************************\n",
      "Mumbai\n",
      "******************************\n",
      "Confidence point:- 7812315.0\n",
      "From:- 5691711.43\n",
      "To:- 9932918.57\n",
      "Range:- 4241207.14\n",
      "\n",
      "\n",
      "******************************\n",
      "New Delhi\n",
      "******************************\n",
      "Confidence point:- 12972865.57\n",
      "From:- 4568907.36\n",
      "To:- 21376823.77\n",
      "Range:- 16807916.42\n",
      "\n",
      "\n",
      "InvestorsName\n",
      "******************************\n",
      "Undisclosed Investors\n",
      "******************************\n",
      "Confidence point:- 912750.0\n",
      "From:- 284657.63\n",
      "To:- 1540842.37\n",
      "Range:- 1256184.74\n",
      "\n",
      "\n",
      "******************************\n",
      "Undisclosed investors\n",
      "******************************\n",
      "Confidence point:- 981333.33\n",
      "From:- -92682.6\n",
      "To:- 2055349.27\n",
      "Range:- 2148031.87\n",
      "\n",
      "\n",
      "******************************\n",
      "Indian Angel Network\n",
      "******************************\n",
      "Confidence point:- 575833.33\n",
      "From:- 323085.71\n",
      "To:- 828580.96\n",
      "Range:- 505495.25\n",
      "\n",
      "\n",
      "InvestmentType\n",
      "******************************\n",
      "Seed Funding\n",
      "******************************\n",
      "Confidence point:- 479669.8\n",
      "From:- 439418.35\n",
      "To:- 519921.26\n",
      "Range:- 80502.9\n",
      "\n",
      "\n",
      "******************************\n",
      "Private Equity\n",
      "******************************\n",
      "Confidence point:- 21772775.09\n",
      "From:- 15918478.12\n",
      "To:- 27627072.06\n",
      "Range:- 11708593.94\n",
      "\n",
      "\n",
      "******************************\n",
      "SeedFunding\n",
      "******************************\n",
      "Confidence point:- 454890.91\n",
      "From:- 164731.13\n",
      "To:- 745050.69\n",
      "Range:- 580319.56\n",
      "\n",
      "\n"
     ]
    }
   ],
   "source": [
    "#Printing confidence interval for top all top3 categories\n",
    "for cols in df.columns[0:6]:\n",
    "    print(cols)\n",
    "    for x in df[cols].value_counts()[0:3].index:\n",
    "        print('*'*30)        \n",
    "\n",
    "        print(x)\n",
    "        \n",
    "        print('*'*30)\n",
    "        \n",
    "        mean_confidence_interval((df['AmountInUSD'][df[cols]==x]).dropna())\n",
    "        \n",
    "        print('\\n')"
   ]
  },
  {
   "cell_type": "code",
   "execution_count": 24,
   "metadata": {
    "scrolled": true
   },
   "outputs": [
    {
     "name": "stdout",
     "output_type": "stream",
     "text": [
      "skewness 15.967621376772419\n",
      "kurtosis 310.7964640883146\n",
      "median   1070000.0\n",
      "count    1.525000e+03\n",
      "mean     1.203107e+07\n",
      "std      6.403118e+07\n",
      "min      1.600000e+04\n",
      "25%      3.700000e+05\n",
      "50%      1.070000e+06\n",
      "75%      6.000000e+06\n",
      "max      1.400000e+09\n",
      "Name: AmountInUSD, dtype: float64\n"
     ]
    }
   ],
   "source": [
    "#Statistics for Amount of investment\n",
    "#The amount that is invested seems to be very flexible\n",
    "print('skewness',df['AmountInUSD'].skew())\n",
    "print('kurtosis',df['AmountInUSD'].kurtosis())\n",
    "print('median  ',df['AmountInUSD'].median())\n",
    "print(df['AmountInUSD'].describe())\n"
   ]
  },
  {
   "cell_type": "code",
   "execution_count": 25,
   "metadata": {},
   "outputs": [
    {
     "data": {
      "image/png": "[encoded data removed]",
      "text/plain": [
       "<matplotlib.figure.Figure at 0x1defabc5c18>"
      ]
     },
     "execution_count": 25,
     "metadata": {},
     "output_type": "execute_result"
    },
    {
     "data": {
      "image/png": "[encoded data removed]",
      "text/plain": [
       "<matplotlib.figure.Figure at 0x1defabc5c18>"
      ]
     },
     "metadata": {},
     "output_type": "display_data"
    }
   ],
   "source": [
    "#Checking the distribution for the target variable AmountInUSD\n",
    "import statsmodels.api as sm\n",
    "sm.qqplot(df['AmountInUSD'].dropna())"
   ]
  },
  {
   "cell_type": "code",
   "execution_count": 26,
   "metadata": {},
   "outputs": [
    {
     "data": {
      "text/html": [
       "<div>\n",
       "<style scoped>\n",
       "    .dataframe tbody tr th:only-of-type {\n",
       "        vertical-align: middle;\n",
       "    }\n",
       "\n",
       "    .dataframe tbody tr th {\n",
       "        vertical-align: top;\n",
       "    }\n",
       "\n",
       "    .dataframe thead th {\n",
       "        text-align: right;\n",
       "    }\n",
       "</style>\n",
       "<table border=\"1\" class=\"dataframe\">\n",
       "  <thead>\n",
       "    <tr style=\"text-align: right;\">\n",
       "      <th></th>\n",
       "      <th>StartupName</th>\n",
       "      <th>IndustryVertical</th>\n",
       "      <th>SubVertical</th>\n",
       "      <th>CityLocation</th>\n",
       "      <th>InvestorsName</th>\n",
       "      <th>InvestmentType</th>\n",
       "      <th>AmountInUSD</th>\n",
       "      <th>month</th>\n",
       "      <th>year</th>\n",
       "      <th>quarter</th>\n",
       "      <th>day</th>\n",
       "      <th>yearmonth</th>\n",
       "    </tr>\n",
       "  </thead>\n",
       "  <tbody>\n",
       "    <tr>\n",
       "      <th>158</th>\n",
       "      <td>Paytm</td>\n",
       "      <td>ECommerce</td>\n",
       "      <td>Mobile Wallet &amp; ECommerce platform</td>\n",
       "      <td>Bangalore</td>\n",
       "      <td>SoftBank Group</td>\n",
       "      <td>Private Equity</td>\n",
       "      <td>1.400000e+09</td>\n",
       "      <td>5</td>\n",
       "      <td>2017</td>\n",
       "      <td>2</td>\n",
       "      <td>18</td>\n",
       "      <td>201705</td>\n",
       "    </tr>\n",
       "    <tr>\n",
       "      <th>294</th>\n",
       "      <td>Flipkart</td>\n",
       "      <td>eCommerce</td>\n",
       "      <td>ECommerce Marketplace</td>\n",
       "      <td>Bangalore</td>\n",
       "      <td>Microsoft, eBay, Tencent Holdings</td>\n",
       "      <td>Private Equity</td>\n",
       "      <td>1.400000e+09</td>\n",
       "      <td>3</td>\n",
       "      <td>2017</td>\n",
       "      <td>1</td>\n",
       "      <td>21</td>\n",
       "      <td>201703</td>\n",
       "    </tr>\n",
       "  </tbody>\n",
       "</table>\n",
       "</div>"
      ],
      "text/plain": [
       "    StartupName IndustryVertical                         SubVertical  \\\n",
       "158       Paytm        ECommerce  Mobile Wallet & ECommerce platform   \n",
       "294    Flipkart        eCommerce               ECommerce Marketplace   \n",
       "\n",
       "    CityLocation                      InvestorsName  InvestmentType  \\\n",
       "158    Bangalore                     SoftBank Group  Private Equity   \n",
       "294    Bangalore  Microsoft, eBay, Tencent Holdings  Private Equity   \n",
       "\n",
       "      AmountInUSD  month  year  quarter  day  yearmonth  \n",
       "158  1.400000e+09      5  2017        2   18     201705  \n",
       "294  1.400000e+09      3  2017        1   21     201703  "
      ]
     },
     "execution_count": 26,
     "metadata": {},
     "output_type": "execute_result"
    }
   ],
   "source": [
    "#Analyzing the startup that got the max funding\n",
    "df[df['AmountInUSD']==1400000000.0]"
   ]
  },
  {
   "cell_type": "code",
   "execution_count": 27,
   "metadata": {
    "scrolled": true
   },
   "outputs": [
    {
     "data": {
      "text/html": [
       "<div>\n",
       "<style scoped>\n",
       "    .dataframe tbody tr th:only-of-type {\n",
       "        vertical-align: middle;\n",
       "    }\n",
       "\n",
       "    .dataframe tbody tr th {\n",
       "        vertical-align: top;\n",
       "    }\n",
       "\n",
       "    .dataframe thead th {\n",
       "        text-align: right;\n",
       "    }\n",
       "</style>\n",
       "<table border=\"1\" class=\"dataframe\">\n",
       "  <thead>\n",
       "    <tr style=\"text-align: right;\">\n",
       "      <th></th>\n",
       "      <th>StartupName</th>\n",
       "      <th>IndustryVertical</th>\n",
       "      <th>SubVertical</th>\n",
       "      <th>CityLocation</th>\n",
       "      <th>InvestorsName</th>\n",
       "      <th>InvestmentType</th>\n",
       "      <th>AmountInUSD</th>\n",
       "      <th>month</th>\n",
       "      <th>year</th>\n",
       "      <th>quarter</th>\n",
       "      <th>day</th>\n",
       "      <th>yearmonth</th>\n",
       "    </tr>\n",
       "  </thead>\n",
       "  <tbody>\n",
       "    <tr>\n",
       "      <th>2345</th>\n",
       "      <td>Hostel Dunia</td>\n",
       "      <td>NaN</td>\n",
       "      <td>NaN</td>\n",
       "      <td>NaN</td>\n",
       "      <td>Hyderabad Angels (at Startup Heroes event)</td>\n",
       "      <td>Seed Funding</td>\n",
       "      <td>16000.0</td>\n",
       "      <td>1</td>\n",
       "      <td>2015</td>\n",
       "      <td>1</td>\n",
       "      <td>19</td>\n",
       "      <td>201501</td>\n",
       "    </tr>\n",
       "    <tr>\n",
       "      <th>2346</th>\n",
       "      <td>Play your sport</td>\n",
       "      <td>NaN</td>\n",
       "      <td>NaN</td>\n",
       "      <td>NaN</td>\n",
       "      <td>Hyderabad Angels (at Startup Heroes event)</td>\n",
       "      <td>Seed Funding</td>\n",
       "      <td>16000.0</td>\n",
       "      <td>1</td>\n",
       "      <td>2015</td>\n",
       "      <td>1</td>\n",
       "      <td>19</td>\n",
       "      <td>201501</td>\n",
       "    </tr>\n",
       "    <tr>\n",
       "      <th>2347</th>\n",
       "      <td>Yo Grad</td>\n",
       "      <td>NaN</td>\n",
       "      <td>NaN</td>\n",
       "      <td>NaN</td>\n",
       "      <td>Hyderabad Angels (at Startup Heroes event)</td>\n",
       "      <td>Seed Funding</td>\n",
       "      <td>16000.0</td>\n",
       "      <td>1</td>\n",
       "      <td>2015</td>\n",
       "      <td>1</td>\n",
       "      <td>19</td>\n",
       "      <td>201501</td>\n",
       "    </tr>\n",
       "    <tr>\n",
       "      <th>2348</th>\n",
       "      <td>Enabli</td>\n",
       "      <td>NaN</td>\n",
       "      <td>NaN</td>\n",
       "      <td>NaN</td>\n",
       "      <td>Hyderabad Angels (at Startup Heroes event)</td>\n",
       "      <td>Seed Funding</td>\n",
       "      <td>16000.0</td>\n",
       "      <td>1</td>\n",
       "      <td>2015</td>\n",
       "      <td>1</td>\n",
       "      <td>19</td>\n",
       "      <td>201501</td>\n",
       "    </tr>\n",
       "    <tr>\n",
       "      <th>2349</th>\n",
       "      <td>CBS</td>\n",
       "      <td>NaN</td>\n",
       "      <td>NaN</td>\n",
       "      <td>NaN</td>\n",
       "      <td>Hyderabad Angels (at Startup Heroes event)</td>\n",
       "      <td>Seed Funding</td>\n",
       "      <td>16000.0</td>\n",
       "      <td>1</td>\n",
       "      <td>2015</td>\n",
       "      <td>1</td>\n",
       "      <td>19</td>\n",
       "      <td>201501</td>\n",
       "    </tr>\n",
       "  </tbody>\n",
       "</table>\n",
       "</div>"
      ],
      "text/plain": [
       "          StartupName IndustryVertical SubVertical CityLocation  \\\n",
       "2345     Hostel Dunia              NaN         NaN          NaN   \n",
       "2346  Play your sport              NaN         NaN          NaN   \n",
       "2347          Yo Grad              NaN         NaN          NaN   \n",
       "2348           Enabli              NaN         NaN          NaN   \n",
       "2349              CBS              NaN         NaN          NaN   \n",
       "\n",
       "                                   InvestorsName InvestmentType  AmountInUSD  \\\n",
       "2345  Hyderabad Angels (at Startup Heroes event)   Seed Funding      16000.0   \n",
       "2346  Hyderabad Angels (at Startup Heroes event)   Seed Funding      16000.0   \n",
       "2347  Hyderabad Angels (at Startup Heroes event)   Seed Funding      16000.0   \n",
       "2348  Hyderabad Angels (at Startup Heroes event)   Seed Funding      16000.0   \n",
       "2349  Hyderabad Angels (at Startup Heroes event)   Seed Funding      16000.0   \n",
       "\n",
       "      month  year  quarter  day  yearmonth  \n",
       "2345      1  2015        1   19     201501  \n",
       "2346      1  2015        1   19     201501  \n",
       "2347      1  2015        1   19     201501  \n",
       "2348      1  2015        1   19     201501  \n",
       "2349      1  2015        1   19     201501  "
      ]
     },
     "execution_count": 27,
     "metadata": {},
     "output_type": "execute_result"
    }
   ],
   "source": [
    "#Analyzing the startup that got the least funding\n",
    "df[df['AmountInUSD']==16000]"
   ]
  },
  {
   "cell_type": "markdown",
   "metadata": {},
   "source": [
    "#### Before doing eda of categorical variables we will clean the data frame\n",
    "#### After that we will divide the dataset into 2 different dataframes\n",
    "#### 1) All the data with no null values of AmountInUSD\n",
    "#### 1) All the data with only null values of AmountInUSD"
   ]
  },
  {
   "cell_type": "code",
   "execution_count": 28,
   "metadata": {},
   "outputs": [],
   "source": [
    "#Before splitting the dataset we will first clean the data"
   ]
  },
  {
   "cell_type": "markdown",
   "metadata": {},
   "source": [
    "### Startup Name"
   ]
  },
  {
   "cell_type": "code",
   "execution_count": 29,
   "metadata": {},
   "outputs": [],
   "source": [
    "#There are many variables where the data is same but the name is different\n",
    "#First we will lower all the strings\n",
    "#Later we will personally rename all the variable names\n",
    "df['StartupName']=df['StartupName'].str.lower()"
   ]
  },
  {
   "cell_type": "code",
   "execution_count": 30,
   "metadata": {},
   "outputs": [],
   "source": [
    "df['StartupName']=df['StartupName'].replace(\"practo\",\"practo\")\n",
    "df['StartupName']=df['StartupName'].replace(\"couponmachine.in\",\"couponmachine\")\n",
    "df['StartupName']=df['StartupName'].replace(\"olacabs\",\"ola cabs\")\n",
    "df['StartupName']=df['StartupName'].replace(\"ola\",\"ola cabs\")\n",
    "df['StartupName']=df['StartupName'].replace(\"olipkart.com\",\"flipkart\")\n",
    "df['StartupName']=df['StartupName'].replace(\"paytm marketplace\",\"paytm\")\n",
    "df['StartupName'][df['StartupName']=='flipkart.com']='flipkart'\n",
    "\n",
    "df['StartupName'][df['StartupName']=='oyo']='oyo rooms'"
   ]
  },
  {
   "cell_type": "markdown",
   "metadata": {},
   "source": [
    "### Industry Vertical"
   ]
  },
  {
   "cell_type": "code",
   "execution_count": 31,
   "metadata": {},
   "outputs": [],
   "source": [
    "df['IndustryVertical']=df['IndustryVertical'].str.lower()"
   ]
  },
  {
   "cell_type": "markdown",
   "metadata": {},
   "source": [
    "### Industry Subvertical"
   ]
  },
  {
   "cell_type": "code",
   "execution_count": 32,
   "metadata": {},
   "outputs": [],
   "source": [
    "df['SubVertical']=df['SubVertical'].str.lower()"
   ]
  },
  {
   "cell_type": "markdown",
   "metadata": {},
   "source": [
    "### City Location"
   ]
  },
  {
   "cell_type": "code",
   "execution_count": 33,
   "metadata": {},
   "outputs": [],
   "source": [
    "df['CityLocation']=df['CityLocation'].str.lower().str[0:2]"
   ]
  },
  {
   "cell_type": "markdown",
   "metadata": {},
   "source": [
    "### Investor Name"
   ]
  },
  {
   "cell_type": "code",
   "execution_count": 34,
   "metadata": {},
   "outputs": [],
   "source": [
    "df['InvestorsName']=df['InvestorsName'].str.split(expand=True)[0].str.lower()"
   ]
  },
  {
   "cell_type": "markdown",
   "metadata": {},
   "source": [
    "### Investment Type"
   ]
  },
  {
   "cell_type": "code",
   "execution_count": 35,
   "metadata": {},
   "outputs": [],
   "source": [
    "df['InvestmentType']=df['InvestmentType'].str.lower().str[0]"
   ]
  },
  {
   "cell_type": "code",
   "execution_count": 36,
   "metadata": {
    "scrolled": false
   },
   "outputs": [
    {
     "data": {
      "text/html": [
       "<div>\n",
       "<style scoped>\n",
       "    .dataframe tbody tr th:only-of-type {\n",
       "        vertical-align: middle;\n",
       "    }\n",
       "\n",
       "    .dataframe tbody tr th {\n",
       "        vertical-align: top;\n",
       "    }\n",
       "\n",
       "    .dataframe thead th {\n",
       "        text-align: right;\n",
       "    }\n",
       "</style>\n",
       "<table border=\"1\" class=\"dataframe\">\n",
       "  <thead>\n",
       "    <tr style=\"text-align: right;\">\n",
       "      <th></th>\n",
       "      <th>StartupName</th>\n",
       "      <th>IndustryVertical</th>\n",
       "      <th>SubVertical</th>\n",
       "      <th>CityLocation</th>\n",
       "      <th>InvestorsName</th>\n",
       "      <th>InvestmentType</th>\n",
       "      <th>AmountInUSD</th>\n",
       "      <th>month</th>\n",
       "      <th>year</th>\n",
       "      <th>quarter</th>\n",
       "      <th>day</th>\n",
       "      <th>yearmonth</th>\n",
       "    </tr>\n",
       "  </thead>\n",
       "  <tbody>\n",
       "    <tr>\n",
       "      <th>0</th>\n",
       "      <td>touchkin</td>\n",
       "      <td>technology</td>\n",
       "      <td>predictive care platform</td>\n",
       "      <td>ba</td>\n",
       "      <td>kae</td>\n",
       "      <td>p</td>\n",
       "      <td>1300000.0</td>\n",
       "      <td>1</td>\n",
       "      <td>2017</td>\n",
       "      <td>1</td>\n",
       "      <td>8</td>\n",
       "      <td>201701</td>\n",
       "    </tr>\n",
       "    <tr>\n",
       "      <th>1</th>\n",
       "      <td>ethinos</td>\n",
       "      <td>technology</td>\n",
       "      <td>digital marketing agency</td>\n",
       "      <td>mu</td>\n",
       "      <td>triton</td>\n",
       "      <td>p</td>\n",
       "      <td>NaN</td>\n",
       "      <td>2</td>\n",
       "      <td>2017</td>\n",
       "      <td>1</td>\n",
       "      <td>8</td>\n",
       "      <td>201702</td>\n",
       "    </tr>\n",
       "    <tr>\n",
       "      <th>2</th>\n",
       "      <td>leverage edu</td>\n",
       "      <td>consumer internet</td>\n",
       "      <td>online platform for higher education services</td>\n",
       "      <td>ne</td>\n",
       "      <td>kashyap</td>\n",
       "      <td>s</td>\n",
       "      <td>NaN</td>\n",
       "      <td>2</td>\n",
       "      <td>2017</td>\n",
       "      <td>1</td>\n",
       "      <td>8</td>\n",
       "      <td>201702</td>\n",
       "    </tr>\n",
       "    <tr>\n",
       "      <th>3</th>\n",
       "      <td>zepo</td>\n",
       "      <td>consumer internet</td>\n",
       "      <td>diy ecommerce platform</td>\n",
       "      <td>mu</td>\n",
       "      <td>kunal</td>\n",
       "      <td>s</td>\n",
       "      <td>500000.0</td>\n",
       "      <td>2</td>\n",
       "      <td>2017</td>\n",
       "      <td>1</td>\n",
       "      <td>8</td>\n",
       "      <td>201702</td>\n",
       "    </tr>\n",
       "    <tr>\n",
       "      <th>4</th>\n",
       "      <td>click2clinic</td>\n",
       "      <td>consumer internet</td>\n",
       "      <td>healthcare service aggregator</td>\n",
       "      <td>hy</td>\n",
       "      <td>narottam</td>\n",
       "      <td>s</td>\n",
       "      <td>850000.0</td>\n",
       "      <td>2</td>\n",
       "      <td>2017</td>\n",
       "      <td>1</td>\n",
       "      <td>8</td>\n",
       "      <td>201702</td>\n",
       "    </tr>\n",
       "  </tbody>\n",
       "</table>\n",
       "</div>"
      ],
      "text/plain": [
       "    StartupName   IndustryVertical  \\\n",
       "0      touchkin         technology   \n",
       "1       ethinos         technology   \n",
       "2  leverage edu  consumer internet   \n",
       "3          zepo  consumer internet   \n",
       "4  click2clinic  consumer internet   \n",
       "\n",
       "                                     SubVertical CityLocation InvestorsName  \\\n",
       "0                       predictive care platform           ba           kae   \n",
       "1                       digital marketing agency           mu        triton   \n",
       "2  online platform for higher education services           ne       kashyap   \n",
       "3                         diy ecommerce platform           mu         kunal   \n",
       "4                  healthcare service aggregator           hy      narottam   \n",
       "\n",
       "  InvestmentType  AmountInUSD  month  year  quarter  day  yearmonth  \n",
       "0              p    1300000.0      1  2017        1    8     201701  \n",
       "1              p          NaN      2  2017        1    8     201702  \n",
       "2              s          NaN      2  2017        1    8     201702  \n",
       "3              s     500000.0      2  2017        1    8     201702  \n",
       "4              s     850000.0      2  2017        1    8     201702  "
      ]
     },
     "execution_count": 36,
     "metadata": {},
     "output_type": "execute_result"
    }
   ],
   "source": [
    "df.head()"
   ]
  },
  {
   "cell_type": "code",
   "execution_count": 37,
   "metadata": {},
   "outputs": [
    {
     "data": {
      "image/png": "[encoded data removed]",
      "text/plain": [
       "<matplotlib.figure.Figure at 0x1defa65f940>"
      ]
     },
     "metadata": {},
     "output_type": "display_data"
    }
   ],
   "source": [
    "#Now we will create our 2 new dataframes\n",
    "df_test=df[df['AmountInUSD'].isnull()]\n",
    "\n",
    "df_test.drop('AmountInUSD',axis=1,inplace=True)\n",
    "\n",
    "df_test=df_test.dropna()\n",
    "\n",
    "sns.heatmap(df_test.isnull(),cbar=False,cmap='viridis',yticklabels=False)\n",
    "#All null values were of year 2015\n",
    "df_train=(df.dropna(subset=['AmountInUSD']))"
   ]
  },
  {
   "cell_type": "markdown",
   "metadata": {},
   "source": [
    "# EDA of categorical variables"
   ]
  },
  {
   "cell_type": "markdown",
   "metadata": {},
   "source": [
    "### 1) Startup Name\n"
   ]
  },
  {
   "cell_type": "code",
   "execution_count": 38,
   "metadata": {},
   "outputs": [
    {
     "data": {
      "text/html": [
       "<div>\n",
       "<style scoped>\n",
       "    .dataframe tbody tr th:only-of-type {\n",
       "        vertical-align: middle;\n",
       "    }\n",
       "\n",
       "    .dataframe tbody tr th {\n",
       "        vertical-align: top;\n",
       "    }\n",
       "\n",
       "    .dataframe thead th {\n",
       "        text-align: right;\n",
       "    }\n",
       "</style>\n",
       "<table border=\"1\" class=\"dataframe\">\n",
       "  <thead>\n",
       "    <tr style=\"text-align: right;\">\n",
       "      <th></th>\n",
       "      <th>StartupName</th>\n",
       "      <th>IndustryVertical</th>\n",
       "      <th>SubVertical</th>\n",
       "      <th>CityLocation</th>\n",
       "      <th>InvestorsName</th>\n",
       "      <th>InvestmentType</th>\n",
       "    </tr>\n",
       "  </thead>\n",
       "  <tbody>\n",
       "    <tr>\n",
       "      <th>count</th>\n",
       "      <td>2372</td>\n",
       "      <td>2201</td>\n",
       "      <td>1436</td>\n",
       "      <td>2193</td>\n",
       "      <td>2364</td>\n",
       "      <td>2371</td>\n",
       "    </tr>\n",
       "    <tr>\n",
       "      <th>unique</th>\n",
       "      <td>1916</td>\n",
       "      <td>728</td>\n",
       "      <td>1327</td>\n",
       "      <td>38</td>\n",
       "      <td>984</td>\n",
       "      <td>4</td>\n",
       "    </tr>\n",
       "    <tr>\n",
       "      <th>top</th>\n",
       "      <td>ola cabs</td>\n",
       "      <td>consumer internet</td>\n",
       "      <td>online pharmacy</td>\n",
       "      <td>ba</td>\n",
       "      <td>undisclosed</td>\n",
       "      <td>s</td>\n",
       "    </tr>\n",
       "    <tr>\n",
       "      <th>freq</th>\n",
       "      <td>9</td>\n",
       "      <td>772</td>\n",
       "      <td>9</td>\n",
       "      <td>635</td>\n",
       "      <td>119</td>\n",
       "      <td>1301</td>\n",
       "    </tr>\n",
       "  </tbody>\n",
       "</table>\n",
       "</div>"
      ],
      "text/plain": [
       "       StartupName   IndustryVertical      SubVertical CityLocation  \\\n",
       "count         2372               2201             1436         2193   \n",
       "unique        1916                728             1327           38   \n",
       "top       ola cabs  consumer internet  online pharmacy           ba   \n",
       "freq             9                772                9          635   \n",
       "\n",
       "       InvestorsName InvestmentType  \n",
       "count           2364           2371  \n",
       "unique           984              4  \n",
       "top      undisclosed              s  \n",
       "freq             119           1301  "
      ]
     },
     "execution_count": 38,
     "metadata": {},
     "output_type": "execute_result"
    }
   ],
   "source": [
    "#Statistics for categorical variables\n",
    "df.describe(include='object')"
   ]
  },
  {
   "cell_type": "code",
   "execution_count": 39,
   "metadata": {
    "scrolled": true
   },
   "outputs": [
    {
     "data": {
      "text/html": [
       "<div>\n",
       "<style scoped>\n",
       "    .dataframe tbody tr th:only-of-type {\n",
       "        vertical-align: middle;\n",
       "    }\n",
       "\n",
       "    .dataframe tbody tr th {\n",
       "        vertical-align: top;\n",
       "    }\n",
       "\n",
       "    .dataframe thead th {\n",
       "        text-align: right;\n",
       "    }\n",
       "</style>\n",
       "<table border=\"1\" class=\"dataframe\">\n",
       "  <thead>\n",
       "    <tr style=\"text-align: right;\">\n",
       "      <th></th>\n",
       "      <th>StartupName</th>\n",
       "      <th>AmountInUSD</th>\n",
       "    </tr>\n",
       "  </thead>\n",
       "  <tbody>\n",
       "    <tr>\n",
       "      <th>294</th>\n",
       "      <td>flipkart</td>\n",
       "      <td>1.400000e+09</td>\n",
       "    </tr>\n",
       "    <tr>\n",
       "      <th>158</th>\n",
       "      <td>paytm</td>\n",
       "      <td>1.400000e+09</td>\n",
       "    </tr>\n",
       "    <tr>\n",
       "      <th>1976</th>\n",
       "      <td>flipkart</td>\n",
       "      <td>7.000000e+08</td>\n",
       "    </tr>\n",
       "    <tr>\n",
       "      <th>1787</th>\n",
       "      <td>paytm</td>\n",
       "      <td>6.800000e+08</td>\n",
       "    </tr>\n",
       "    <tr>\n",
       "      <th>1572</th>\n",
       "      <td>ola cabs</td>\n",
       "      <td>5.000000e+08</td>\n",
       "    </tr>\n",
       "    <tr>\n",
       "      <th>1798</th>\n",
       "      <td>snapdeal</td>\n",
       "      <td>5.000000e+08</td>\n",
       "    </tr>\n",
       "    <tr>\n",
       "      <th>2148</th>\n",
       "      <td>ola cabs</td>\n",
       "      <td>4.000000e+08</td>\n",
       "    </tr>\n",
       "    <tr>\n",
       "      <th>252</th>\n",
       "      <td>ola cabs</td>\n",
       "      <td>3.300000e+08</td>\n",
       "    </tr>\n",
       "    <tr>\n",
       "      <th>217</th>\n",
       "      <td>ola cabs</td>\n",
       "      <td>2.600000e+08</td>\n",
       "    </tr>\n",
       "    <tr>\n",
       "      <th>234</th>\n",
       "      <td>oyo rooms</td>\n",
       "      <td>2.500000e+08</td>\n",
       "    </tr>\n",
       "  </tbody>\n",
       "</table>\n",
       "</div>"
      ],
      "text/plain": [
       "     StartupName   AmountInUSD\n",
       "294     flipkart  1.400000e+09\n",
       "158        paytm  1.400000e+09\n",
       "1976    flipkart  7.000000e+08\n",
       "1787       paytm  6.800000e+08\n",
       "1572    ola cabs  5.000000e+08\n",
       "1798    snapdeal  5.000000e+08\n",
       "2148    ola cabs  4.000000e+08\n",
       "252     ola cabs  3.300000e+08\n",
       "217     ola cabs  2.600000e+08\n",
       "234    oyo rooms  2.500000e+08"
      ]
     },
     "execution_count": 39,
     "metadata": {},
     "output_type": "execute_result"
    }
   ],
   "source": [
    "#Top 10 statups according to amount invested\n",
    "(df[['StartupName','AmountInUSD']].dropna()).sort_values(by='AmountInUSD',ascending = False).head(10)\n",
    "\n"
   ]
  },
  {
   "cell_type": "code",
   "execution_count": 40,
   "metadata": {},
   "outputs": [
    {
     "data": {
      "text/html": [
       "<div>\n",
       "<style scoped>\n",
       "    .dataframe tbody tr th:only-of-type {\n",
       "        vertical-align: middle;\n",
       "    }\n",
       "\n",
       "    .dataframe tbody tr th {\n",
       "        vertical-align: top;\n",
       "    }\n",
       "\n",
       "    .dataframe thead th {\n",
       "        text-align: right;\n",
       "    }\n",
       "</style>\n",
       "<table border=\"1\" class=\"dataframe\">\n",
       "  <thead>\n",
       "    <tr style=\"text-align: right;\">\n",
       "      <th></th>\n",
       "      <th>StartupName</th>\n",
       "      <th>AmountInUSD</th>\n",
       "    </tr>\n",
       "  </thead>\n",
       "  <tbody>\n",
       "    <tr>\n",
       "      <th>294</th>\n",
       "      <td>flipkart</td>\n",
       "      <td>1.400000e+09</td>\n",
       "    </tr>\n",
       "    <tr>\n",
       "      <th>158</th>\n",
       "      <td>paytm</td>\n",
       "      <td>1.400000e+09</td>\n",
       "    </tr>\n",
       "    <tr>\n",
       "      <th>1976</th>\n",
       "      <td>flipkart</td>\n",
       "      <td>7.000000e+08</td>\n",
       "    </tr>\n",
       "    <tr>\n",
       "      <th>1787</th>\n",
       "      <td>paytm</td>\n",
       "      <td>6.800000e+08</td>\n",
       "    </tr>\n",
       "    <tr>\n",
       "      <th>1572</th>\n",
       "      <td>ola cabs</td>\n",
       "      <td>5.000000e+08</td>\n",
       "    </tr>\n",
       "    <tr>\n",
       "      <th>1798</th>\n",
       "      <td>snapdeal</td>\n",
       "      <td>5.000000e+08</td>\n",
       "    </tr>\n",
       "    <tr>\n",
       "      <th>2148</th>\n",
       "      <td>ola cabs</td>\n",
       "      <td>4.000000e+08</td>\n",
       "    </tr>\n",
       "    <tr>\n",
       "      <th>252</th>\n",
       "      <td>ola cabs</td>\n",
       "      <td>3.300000e+08</td>\n",
       "    </tr>\n",
       "    <tr>\n",
       "      <th>217</th>\n",
       "      <td>ola cabs</td>\n",
       "      <td>2.600000e+08</td>\n",
       "    </tr>\n",
       "    <tr>\n",
       "      <th>234</th>\n",
       "      <td>oyo rooms</td>\n",
       "      <td>2.500000e+08</td>\n",
       "    </tr>\n",
       "    <tr>\n",
       "      <th>1743</th>\n",
       "      <td>ola cabs</td>\n",
       "      <td>2.250000e+08</td>\n",
       "    </tr>\n",
       "    <tr>\n",
       "      <th>266</th>\n",
       "      <td>paytm</td>\n",
       "      <td>2.000000e+08</td>\n",
       "    </tr>\n",
       "    <tr>\n",
       "      <th>1278</th>\n",
       "      <td>snapdeal</td>\n",
       "      <td>2.000000e+08</td>\n",
       "    </tr>\n",
       "    <tr>\n",
       "      <th>1353</th>\n",
       "      <td>makemytrip</td>\n",
       "      <td>1.800000e+08</td>\n",
       "    </tr>\n",
       "    <tr>\n",
       "      <th>775</th>\n",
       "      <td>hike</td>\n",
       "      <td>1.750000e+08</td>\n",
       "    </tr>\n",
       "    <tr>\n",
       "      <th>1209</th>\n",
       "      <td>bigbasket</td>\n",
       "      <td>1.500000e+08</td>\n",
       "    </tr>\n",
       "    <tr>\n",
       "      <th>2143</th>\n",
       "      <td>quikr</td>\n",
       "      <td>1.500000e+08</td>\n",
       "    </tr>\n",
       "    <tr>\n",
       "      <th>1368</th>\n",
       "      <td>cartrade</td>\n",
       "      <td>1.450000e+08</td>\n",
       "    </tr>\n",
       "    <tr>\n",
       "      <th>2014</th>\n",
       "      <td>ecom express</td>\n",
       "      <td>1.370000e+08</td>\n",
       "    </tr>\n",
       "    <tr>\n",
       "      <th>1602</th>\n",
       "      <td>grofers</td>\n",
       "      <td>1.200000e+08</td>\n",
       "    </tr>\n",
       "  </tbody>\n",
       "</table>\n",
       "</div>"
      ],
      "text/plain": [
       "       StartupName   AmountInUSD\n",
       "294       flipkart  1.400000e+09\n",
       "158          paytm  1.400000e+09\n",
       "1976      flipkart  7.000000e+08\n",
       "1787         paytm  6.800000e+08\n",
       "1572      ola cabs  5.000000e+08\n",
       "1798      snapdeal  5.000000e+08\n",
       "2148      ola cabs  4.000000e+08\n",
       "252       ola cabs  3.300000e+08\n",
       "217       ola cabs  2.600000e+08\n",
       "234      oyo rooms  2.500000e+08\n",
       "1743      ola cabs  2.250000e+08\n",
       "266          paytm  2.000000e+08\n",
       "1278      snapdeal  2.000000e+08\n",
       "1353    makemytrip  1.800000e+08\n",
       "775           hike  1.750000e+08\n",
       "1209     bigbasket  1.500000e+08\n",
       "2143         quikr  1.500000e+08\n",
       "1368      cartrade  1.450000e+08\n",
       "2014  ecom express  1.370000e+08\n",
       "1602       grofers  1.200000e+08"
      ]
     },
     "execution_count": 40,
     "metadata": {},
     "output_type": "execute_result"
    }
   ],
   "source": [
    "#Making a dataframe of top 20 start up name according to the amount that was invested in them\n",
    "\n",
    "top20funding=(df[['StartupName','AmountInUSD']].dropna()).sort_values(by='AmountInUSD',ascending = False).head(20)\n",
    "\n",
    "top20funding"
   ]
  },
  {
   "cell_type": "code",
   "execution_count": 41,
   "metadata": {
    "scrolled": true
   },
   "outputs": [
    {
     "data": {
      "text/plain": [
       "ola cabs        5\n",
       "paytm           3\n",
       "snapdeal        2\n",
       "flipkart        2\n",
       "makemytrip      1\n",
       "cartrade        1\n",
       "quikr           1\n",
       "hike            1\n",
       "oyo rooms       1\n",
       "bigbasket       1\n",
       "grofers         1\n",
       "ecom express    1\n",
       "Name: StartupName, dtype: int64"
      ]
     },
     "execution_count": 41,
     "metadata": {},
     "output_type": "execute_result"
    }
   ],
   "source": [
    "#Counting the frequency of startups in top 20 startups that were funded\n",
    "top20fundingcount=(df[['StartupName','AmountInUSD']].dropna()).sort_values(by='AmountInUSD',ascending = False).head(20)['StartupName'].value_counts()\n",
    "top20fundingcount"
   ]
  },
  {
   "cell_type": "code",
   "execution_count": 42,
   "metadata": {
    "scrolled": true
   },
   "outputs": [
    {
     "data": {
      "image/png": "[encoded data removed]",
      "text/plain": [
       "<matplotlib.figure.Figure at 0x1defad904a8>"
      ]
     },
     "metadata": {},
     "output_type": "display_data"
    }
   ],
   "source": [
    "##Plotting the frequency of startups in top 20 startups that were funded\n",
    "\n",
    "plt.figure(figsize=(15,8))\n",
    "sns.barplot(top20fundingcount.index, top20fundingcount.values, alpha=0.9,color='skyblue')\n",
    "\n",
    "plt.xticks(rotation='vertical')\n",
    "plt.xlabel('Startup Name', fontsize=18)\n",
    "plt.ylabel('Number of fundings made', fontsize=18)\n",
    "plt.title(\"Frequency of startups in top 20 funded amount\", fontsize=20)\n",
    "plt.show()\n",
    "\n"
   ]
  },
  {
   "cell_type": "code",
   "execution_count": 43,
   "metadata": {},
   "outputs": [],
   "source": [
    "#Creating a new dataframe with Startup name and the amount they got as funding\n",
    "nameamount=df_train[['StartupName','AmountInUSD']]"
   ]
  },
  {
   "cell_type": "code",
   "execution_count": 44,
   "metadata": {
    "scrolled": true
   },
   "outputs": [
    {
     "data": {
      "text/plain": [
       "4.17981072555205"
      ]
     },
     "execution_count": 44,
     "metadata": {},
     "output_type": "execute_result"
    }
   ],
   "source": [
    "#Grouping the dataframe according to startup name and sorting it out accoring to number of funding they recieved\n",
    "nameamount=nameamount.groupby('StartupName').sum().sort_values(by='AmountInUSD',ascending=False)\n",
    "\n",
    "#How much of funding is recieved by how much of startups\n",
    "np.sum((nameamount/np.sum(nameamount)*100).head(53))\n",
    "\n",
    "len(nameamount)\n",
    "\n",
    "53/1268*100"
   ]
  },
  {
   "cell_type": "markdown",
   "metadata": {},
   "source": [
    "#### 70% amount of funding is recieved by 4.1% of startup"
   ]
  },
  {
   "cell_type": "markdown",
   "metadata": {},
   "source": [
    "### 2) Industry Vertical\n",
    "#### ● Which industries are favored by investors for funding?\n"
   ]
  },
  {
   "cell_type": "code",
   "execution_count": 45,
   "metadata": {},
   "outputs": [
    {
     "data": {
      "text/plain": [
       "7.209106239460371"
      ]
     },
     "execution_count": 45,
     "metadata": {},
     "output_type": "execute_result"
    }
   ],
   "source": [
    "#Percentage of null values in dataframe\n",
    "len(df[df['IndustryVertical'].isnull()==True])/len(df['IndustryVertical'])*100"
   ]
  },
  {
   "cell_type": "code",
   "execution_count": 46,
   "metadata": {
    "scrolled": false
   },
   "outputs": [
    {
     "data": {
      "text/plain": [
       "consumer internet               461\n",
       "technology                      189\n",
       "ecommerce                       149\n",
       "logistics                        16\n",
       "healthcare                       15\n",
       "education                        15\n",
       "food & beverage                  12\n",
       "finance                           7\n",
       "online food delivery              5\n",
       "others                            4\n",
       "hyperlocal handyman services      4\n",
       "Name: IndustryVertical, dtype: int64"
      ]
     },
     "execution_count": 46,
     "metadata": {},
     "output_type": "execute_result"
    }
   ],
   "source": [
    "#Industries that recieved funding more than 3 times\n",
    "df_train['IndustryVertical'].value_counts()[df_train['IndustryVertical'].value_counts()>3]"
   ]
  },
  {
   "cell_type": "code",
   "execution_count": 47,
   "metadata": {},
   "outputs": [
    {
     "data": {
      "image/png": "[encoded data removed]",
      "text/plain": [
       "<matplotlib.figure.Figure at 0x1defadc3eb8>"
      ]
     },
     "metadata": {},
     "output_type": "display_data"
    },
    {
     "data": {
      "image/png": "[encoded data removed]",
      "text/plain": [
       "<matplotlib.figure.Figure at 0x1defae1e710>"
      ]
     },
     "metadata": {},
     "output_type": "display_data"
    }
   ],
   "source": [
    "#Top 3 industries with most frequent funding recieved\n",
    "(df_train['IndustryVertical'].value_counts()/len(df_train['IndustryVertical'])*100)[0:3]\n",
    "\n",
    "x_barindustry=np.array(['consumer internet','technology','ecommerce','other 2369'])     \n",
    "y_barindustry=np.array([30.229508,12.393443,9.770492,47.6])\n",
    "\n",
    "plt.figure(figsize=(10,8))\n",
    "sns.barplot(x_barindustry,y_barindustry,color='skyblue')\n",
    "plt.xticks(rotation='vertical',fontsize=15)\n",
    "plt.xlabel('Industry', fontsize=20)\n",
    "plt.ylabel('Number of funding', fontsize=18)\n",
    "plt.title(\"Percentage of fundding according to industry\", fontsize=20)\n",
    "\n",
    "plt.show()\n",
    "\n",
    "#Comparing investments of top 3 industries vs the rest\n",
    "x_barindustry_top3=np.array(['top3','other 2369'])     \n",
    "y_barindustry_top3=np.array([53.4,47.6])\n",
    "\n",
    "\n",
    "plt.figure(figsize=(8,6))\n",
    "sns.barplot(x_barindustry_top3,y_barindustry_top3,color='skyblue')\n",
    "plt.xticks(rotation='vertical',fontsize=15)\n",
    "plt.xlabel('Industry', fontsize=20)\n",
    "plt.ylabel('Number of funding', fontsize=18)\n",
    "plt.title(\"Percentage of funding according to industry\", fontsize=20)\n",
    "\n",
    "plt.show()"
   ]
  },
  {
   "cell_type": "code",
   "execution_count": 48,
   "metadata": {},
   "outputs": [
    {
     "data": {
      "text/plain": [
       "1.7716535433070866"
      ]
     },
     "execution_count": 48,
     "metadata": {},
     "output_type": "execute_result"
    }
   ],
   "source": [
    "#Creating new dataframe with the industry name and amount invested in respective industries\n",
    "indamount=df_train[['IndustryVertical','AmountInUSD']]\n",
    "\n",
    "#Grouping the dataframe according to industries and sorting it according to the amount invested\n",
    "indamount=indamount.groupby('IndustryVertical').sum().sort_values(by='AmountInUSD',ascending=False)\n",
    "\n",
    "#How much investment is done in how many of industries?\n",
    "np.sum((indamount/indamount.sum()*100).head(9))\n",
    "\n",
    "len(indamount)\n",
    "\n",
    "9/508*100\n",
    "\n"
   ]
  },
  {
   "cell_type": "markdown",
   "metadata": {},
   "source": [
    "#### 71.2% of investment is done in 1.7% industries"
   ]
  },
  {
   "cell_type": "markdown",
   "metadata": {},
   "source": [
    "### 3) City Location\n",
    "#### ● Do cities play a major role in funding?\n"
   ]
  },
  {
   "cell_type": "code",
   "execution_count": 49,
   "metadata": {},
   "outputs": [],
   "source": [
    "#Creating new dataframe which is sorted according to frequency of investments that is allocated as per city\n",
    "topcityfunded=df_train['CityLocation'].value_counts()[df_train['CityLocation'].value_counts()>10]"
   ]
  },
  {
   "cell_type": "code",
   "execution_count": 50,
   "metadata": {},
   "outputs": [
    {
     "data": {
      "image/png": "[encoded data removed]",
      "text/plain": [
       "<matplotlib.figure.Figure at 0x1defad9bb00>"
      ]
     },
     "metadata": {},
     "output_type": "display_data"
    }
   ],
   "source": [
    "plt.figure(figsize=(8,8))\n",
    "sns.barplot(topcityfunded.index, topcityfunded.values, alpha=0.9,color='skyblue')\n",
    "\n",
    "plt.xticks(rotation='vertical',fontsize=15)\n",
    "plt.xlabel('Startup Name', fontsize=20)\n",
    "plt.ylabel('Number of fundings made', fontsize=18)\n",
    "plt.title(\"Frequency of startups according to city\", fontsize=20)\n",
    "\n",
    "plt.show()\n",
    "\n"
   ]
  },
  {
   "cell_type": "code",
   "execution_count": 51,
   "metadata": {},
   "outputs": [
    {
     "data": {
      "image/png": "[encoded data removed]",
      "text/plain": [
       "<matplotlib.figure.Figure at 0x1defaead128>"
      ]
     },
     "metadata": {},
     "output_type": "display_data"
    }
   ],
   "source": [
    "#Creating new dataframe which is sorted according to the amount of investment that is allocated\n",
    "cityamount=df[['CityLocation','AmountInUSD']].dropna().sort_values(by='AmountInUSD')\n",
    "\n",
    "cityamount=cityamount.groupby('CityLocation').sum().sort_values(by='AmountInUSD',ascending=False)\n",
    "\n",
    "x_barcity=np.array(['ba', 'ne', 'mu', 'gu', 'ch', 'pu', 'hy', 'no', 'ah', 'ja','other'])\n",
    "y_barcity=np.array([8.42297411e+09,\n",
    "       2.82019750e+09,\n",
    "       2.35493450e+09,\n",
    "       2.06902150e+09,\n",
    "       4.37205000e+08,\n",
    "       3.66653000e+08,\n",
    "       1.95362000e+08,\n",
    "       1.70638000e+08,\n",
    "       9.81860000e+07,\n",
    "       3.55600000e+07,\n",
    "            104791000.0\n",
    "            ])\n",
    "\n",
    "plt.figure(figsize=(15,8))\n",
    "sns.barplot(x_barcity,y_barcity, alpha=0.9,color='skyblue')\n",
    "\n",
    "plt.xticks(rotation='vertical',fontsize=15)\n",
    "plt.xlabel('City', fontsize=20)\n",
    "plt.ylabel('Funding', fontsize=18)\n",
    "plt.title(\"Highest funding according to city\", fontsize=20)\n",
    "\n",
    "plt.show()\n",
    "\n"
   ]
  },
  {
   "cell_type": "code",
   "execution_count": 52,
   "metadata": {},
   "outputs": [
    {
     "data": {
      "image/png": "[encoded data removed]",
      "text/plain": [
       "<matplotlib.figure.Figure at 0x1defaecf5f8>"
      ]
     },
     "metadata": {},
     "output_type": "display_data"
    }
   ],
   "source": [
    "#Creating a pie diagram which shows how much funding is given as per cities\n",
    "x_piecity=np.array(['ba', 'ne', 'mu', 'gu', 'ch', 'other'])\n",
    "y_piecity=np.array([8.42297411e+09,\n",
    "       2.82019750e+09,\n",
    "       2.35493450e+09,\n",
    "       2.06902150e+09,\n",
    "       4.37205000e+08,\n",
    "      971190000.0\n",
    "            ])\n",
    "\n",
    "plt.figure(figsize=(10,10))\n",
    "plt.pie(y_piecity,labels=(x_piecity),autopct='%1.1f%%',colors=['skyblue','pink','plum','lightgreen','coral','gold'],explode=[0,0.1,0,0,0,0],startangle=45)\n",
    "plt.rcParams['font.size'] = 16\n",
    "plt.show()"
   ]
  },
  {
   "cell_type": "code",
   "execution_count": 53,
   "metadata": {},
   "outputs": [
    {
     "data": {
      "text/plain": [
       "12.5"
      ]
     },
     "execution_count": 53,
     "metadata": {},
     "output_type": "execute_result"
    }
   ],
   "source": [
    "#How much investment is done in how many of cities?\n",
    "\n",
    "(np.sum((cityamount/np.sum(cityamount)*100)[0:4]))\n",
    "\n",
    "len(cityamount)\n",
    "\n",
    "4/32*100\n",
    "\n"
   ]
  },
  {
   "cell_type": "markdown",
   "metadata": {},
   "source": [
    "#### 91.7% of investment is done in 12.5% of cities"
   ]
  },
  {
   "cell_type": "markdown",
   "metadata": {},
   "source": [
    "### 4) Investor Name\n",
    "#### ● Who are the important investors in the Indian Ecosystem?\n"
   ]
  },
  {
   "cell_type": "code",
   "execution_count": 54,
   "metadata": {
    "scrolled": false
   },
   "outputs": [
    {
     "data": {
      "text/plain": [
       "undisclosed    119\n",
       "sequoia         55\n",
       "accel           39\n",
       "indian          37\n",
       "kalaari         34\n",
       "tiger           30\n",
       "ratan           28\n",
       "group           26\n",
       "idg             25\n",
       "saif            25\n",
       "Name: InvestorsName, dtype: int64"
      ]
     },
     "execution_count": 54,
     "metadata": {},
     "output_type": "execute_result"
    }
   ],
   "source": [
    "#Top 10 investors according to frequency of funding\n",
    "investorname=df['InvestorsName'].value_counts().head(10)\n",
    "investorname"
   ]
  },
  {
   "cell_type": "code",
   "execution_count": 55,
   "metadata": {},
   "outputs": [
    {
     "data": {
      "text/plain": [
       "22.032786885245905"
      ]
     },
     "execution_count": 55,
     "metadata": {},
     "output_type": "execute_result"
    }
   ],
   "source": [
    "#How much does the top 10 investors contribute in funding\n",
    "np.sum((df_train['InvestorsName'].value_counts()/len(df_train['InvestorsName'])*100)[0:10])"
   ]
  },
  {
   "cell_type": "code",
   "execution_count": 56,
   "metadata": {},
   "outputs": [
    {
     "data": {
      "text/plain": [
       "77.63934426229507"
      ]
     },
     "execution_count": 56,
     "metadata": {},
     "output_type": "execute_result"
    }
   ],
   "source": [
    "#How much does the rest of investors contribute in funding\n",
    "np.sum((df_train['InvestorsName'].value_counts()/len(df_train['InvestorsName'])*100)[10:])"
   ]
  },
  {
   "cell_type": "code",
   "execution_count": 57,
   "metadata": {},
   "outputs": [
    {
     "data": {
      "image/png": "[encoded data removed]",
      "text/plain": [
       "<matplotlib.figure.Figure at 0x1defae7eb00>"
      ]
     },
     "metadata": {},
     "output_type": "display_data"
    }
   ],
   "source": [
    "plt.figure(figsize=(8,8))\n",
    "sns.barplot(investorname.index, investorname.values, alpha=0.9,color='skyblue')\n",
    "\n",
    "plt.xticks(rotation='vertical',fontsize=15)\n",
    "plt.xlabel('Investor Name', fontsize=20)\n",
    "plt.ylabel('Number of fundings made', fontsize=18)\n",
    "plt.title(\"Frequency of funding according to investor\", fontsize=20)\n",
    "\n",
    "plt.show()\n",
    "\n"
   ]
  },
  {
   "cell_type": "code",
   "execution_count": 58,
   "metadata": {},
   "outputs": [],
   "source": [
    "#Creating new data frame with only Investor names and the amount they invested\n",
    "investoramount=df_train[['InvestorsName','AmountInUSD']]"
   ]
  },
  {
   "cell_type": "code",
   "execution_count": 59,
   "metadata": {},
   "outputs": [
    {
     "data": {
      "text/html": [
       "<div>\n",
       "<style scoped>\n",
       "    .dataframe tbody tr th:only-of-type {\n",
       "        vertical-align: middle;\n",
       "    }\n",
       "\n",
       "    .dataframe tbody tr th {\n",
       "        vertical-align: top;\n",
       "    }\n",
       "\n",
       "    .dataframe thead th {\n",
       "        text-align: right;\n",
       "    }\n",
       "</style>\n",
       "<table border=\"1\" class=\"dataframe\">\n",
       "  <thead>\n",
       "    <tr style=\"text-align: right;\">\n",
       "      <th></th>\n",
       "      <th>InvestorsName</th>\n",
       "      <th>AmountInUSD</th>\n",
       "    </tr>\n",
       "  </thead>\n",
       "  <tbody>\n",
       "    <tr>\n",
       "      <th>0</th>\n",
       "      <td>kae</td>\n",
       "      <td>1300000.0</td>\n",
       "    </tr>\n",
       "    <tr>\n",
       "      <th>3</th>\n",
       "      <td>kunal</td>\n",
       "      <td>500000.0</td>\n",
       "    </tr>\n",
       "    <tr>\n",
       "      <th>4</th>\n",
       "      <td>narottam</td>\n",
       "      <td>850000.0</td>\n",
       "    </tr>\n",
       "    <tr>\n",
       "      <th>5</th>\n",
       "      <td>reliance</td>\n",
       "      <td>1000000.0</td>\n",
       "    </tr>\n",
       "    <tr>\n",
       "      <th>6</th>\n",
       "      <td>infuse</td>\n",
       "      <td>2600000.0</td>\n",
       "    </tr>\n",
       "    <tr>\n",
       "      <th>7</th>\n",
       "      <td>asset</td>\n",
       "      <td>20000000.0</td>\n",
       "    </tr>\n",
       "    <tr>\n",
       "      <th>8</th>\n",
       "      <td>kalaari</td>\n",
       "      <td>8500000.0</td>\n",
       "    </tr>\n",
       "    <tr>\n",
       "      <th>9</th>\n",
       "      <td>international</td>\n",
       "      <td>12000000.0</td>\n",
       "    </tr>\n",
       "    <tr>\n",
       "      <th>10</th>\n",
       "      <td>bccl</td>\n",
       "      <td>1000000.0</td>\n",
       "    </tr>\n",
       "    <tr>\n",
       "      <th>13</th>\n",
       "      <td>india</td>\n",
       "      <td>1000000.0</td>\n",
       "    </tr>\n",
       "  </tbody>\n",
       "</table>\n",
       "</div>"
      ],
      "text/plain": [
       "    InvestorsName  AmountInUSD\n",
       "0             kae    1300000.0\n",
       "3           kunal     500000.0\n",
       "4        narottam     850000.0\n",
       "5        reliance    1000000.0\n",
       "6          infuse    2600000.0\n",
       "7           asset   20000000.0\n",
       "8         kalaari    8500000.0\n",
       "9   international   12000000.0\n",
       "10           bccl    1000000.0\n",
       "13          india    1000000.0"
      ]
     },
     "execution_count": 59,
     "metadata": {},
     "output_type": "execute_result"
    }
   ],
   "source": [
    "investoramount.head(10)"
   ]
  },
  {
   "cell_type": "code",
   "execution_count": 60,
   "metadata": {},
   "outputs": [
    {
     "data": {
      "text/html": [
       "<div>\n",
       "<style scoped>\n",
       "    .dataframe tbody tr th:only-of-type {\n",
       "        vertical-align: middle;\n",
       "    }\n",
       "\n",
       "    .dataframe tbody tr th {\n",
       "        vertical-align: top;\n",
       "    }\n",
       "\n",
       "    .dataframe thead th {\n",
       "        text-align: right;\n",
       "    }\n",
       "</style>\n",
       "<table border=\"1\" class=\"dataframe\">\n",
       "  <thead>\n",
       "    <tr style=\"text-align: right;\">\n",
       "      <th></th>\n",
       "      <th>AmountInUSD</th>\n",
       "    </tr>\n",
       "    <tr>\n",
       "      <th>InvestorsName</th>\n",
       "      <th></th>\n",
       "    </tr>\n",
       "  </thead>\n",
       "  <tbody>\n",
       "    <tr>\n",
       "      <th>softbank</th>\n",
       "      <td>2.177000e+09</td>\n",
       "    </tr>\n",
       "    <tr>\n",
       "      <th>microsoft,</th>\n",
       "      <td>1.400000e+09</td>\n",
       "    </tr>\n",
       "    <tr>\n",
       "      <th>alibaba</th>\n",
       "      <td>9.150000e+08</td>\n",
       "    </tr>\n",
       "    <tr>\n",
       "      <th>tiger</th>\n",
       "      <td>8.845500e+08</td>\n",
       "    </tr>\n",
       "    <tr>\n",
       "      <th>sequoia</th>\n",
       "      <td>8.529000e+08</td>\n",
       "    </tr>\n",
       "    <tr>\n",
       "      <th>steadview</th>\n",
       "      <td>7.000000e+08</td>\n",
       "    </tr>\n",
       "    <tr>\n",
       "      <th>alibaba,</th>\n",
       "      <td>5.000000e+08</td>\n",
       "    </tr>\n",
       "    <tr>\n",
       "      <th>baillie</th>\n",
       "      <td>5.000000e+08</td>\n",
       "    </tr>\n",
       "    <tr>\n",
       "      <th>dst</th>\n",
       "      <td>4.000000e+08</td>\n",
       "    </tr>\n",
       "    <tr>\n",
       "      <th>falcon</th>\n",
       "      <td>3.945000e+08</td>\n",
       "    </tr>\n",
       "  </tbody>\n",
       "</table>\n",
       "</div>"
      ],
      "text/plain": [
       "                AmountInUSD\n",
       "InvestorsName              \n",
       "softbank       2.177000e+09\n",
       "microsoft,     1.400000e+09\n",
       "alibaba        9.150000e+08\n",
       "tiger          8.845500e+08\n",
       "sequoia        8.529000e+08\n",
       "steadview      7.000000e+08\n",
       "alibaba,       5.000000e+08\n",
       "baillie        5.000000e+08\n",
       "dst            4.000000e+08\n",
       "falcon         3.945000e+08"
      ]
     },
     "execution_count": 60,
     "metadata": {},
     "output_type": "execute_result"
    }
   ],
   "source": [
    "#Grouping investorname with the amount they have invested\n",
    "investoramount=investoramount.groupby('InvestorsName').sum().sort_values(by='AmountInUSD',ascending=False)\n",
    "investoramount.head(10)"
   ]
  },
  {
   "cell_type": "code",
   "execution_count": 61,
   "metadata": {
    "scrolled": true
   },
   "outputs": [
    {
     "data": {
      "text/plain": [
       "5.120910384068279"
      ]
     },
     "execution_count": 61,
     "metadata": {},
     "output_type": "execute_result"
    }
   ],
   "source": [
    "#How much investment is done by how many of investors?\n",
    "(np.sum((investoramount/np.sum(investoramount)*100)[0:36]))\n",
    "\n",
    "len(investoramount)\n",
    "\n",
    "36/703*100"
   ]
  },
  {
   "cell_type": "markdown",
   "metadata": {},
   "source": [
    "#### 70.1% of investment is done by 5.1% of investors"
   ]
  },
  {
   "cell_type": "markdown",
   "metadata": {},
   "source": [
    "### 5) Subvertical"
   ]
  },
  {
   "cell_type": "code",
   "execution_count": 62,
   "metadata": {},
   "outputs": [],
   "source": [
    "#Creating new data frame with only Investor names and the amount they invested\n",
    "subamount=df_train[['SubVertical','AmountInUSD']]"
   ]
  },
  {
   "cell_type": "code",
   "execution_count": 63,
   "metadata": {},
   "outputs": [],
   "source": [
    "subamount=(subamount.groupby('SubVertical').sum()).sort_values(by='AmountInUSD',ascending=False)"
   ]
  },
  {
   "cell_type": "code",
   "execution_count": 64,
   "metadata": {},
   "outputs": [
    {
     "data": {
      "text/plain": [
       "4.785276073619632"
      ]
     },
     "execution_count": 64,
     "metadata": {},
     "output_type": "execute_result"
    }
   ],
   "source": [
    "#How much investment is done in Subvertical?\n",
    "\n",
    "np.sum((subamount/np.sum(subamount)*100).head(39))\n",
    "\n",
    "len(subamount)\n",
    "\n",
    "39/815*100\n",
    "\n"
   ]
  },
  {
   "cell_type": "markdown",
   "metadata": {},
   "source": [
    "#### 70.2% of investment is done in 4.7% of subvertical industries"
   ]
  },
  {
   "cell_type": "code",
   "execution_count": 65,
   "metadata": {},
   "outputs": [],
   "source": [
    "#Grouping the data frame according to startup names\n",
    "group=df_train.groupby('StartupName')"
   ]
  },
  {
   "cell_type": "code",
   "execution_count": 66,
   "metadata": {},
   "outputs": [],
   "source": [
    "#Sorting the dataframe according to amount of funding and capturing the 4.1% of startup that got 70% of funding\n",
    "topstartup=group.first().sort_values('AmountInUSD',ascending=False).head(53)"
   ]
  },
  {
   "cell_type": "code",
   "execution_count": 67,
   "metadata": {},
   "outputs": [
    {
     "data": {
      "text/html": [
       "<div>\n",
       "<style scoped>\n",
       "    .dataframe tbody tr th:only-of-type {\n",
       "        vertical-align: middle;\n",
       "    }\n",
       "\n",
       "    .dataframe tbody tr th {\n",
       "        vertical-align: top;\n",
       "    }\n",
       "\n",
       "    .dataframe thead th {\n",
       "        text-align: right;\n",
       "    }\n",
       "</style>\n",
       "<table border=\"1\" class=\"dataframe\">\n",
       "  <thead>\n",
       "    <tr style=\"text-align: right;\">\n",
       "      <th></th>\n",
       "      <th>IndustryVertical</th>\n",
       "      <th>SubVertical</th>\n",
       "      <th>CityLocation</th>\n",
       "      <th>InvestorsName</th>\n",
       "      <th>InvestmentType</th>\n",
       "      <th>AmountInUSD</th>\n",
       "      <th>month</th>\n",
       "      <th>year</th>\n",
       "      <th>quarter</th>\n",
       "      <th>day</th>\n",
       "      <th>yearmonth</th>\n",
       "    </tr>\n",
       "    <tr>\n",
       "      <th>StartupName</th>\n",
       "      <th></th>\n",
       "      <th></th>\n",
       "      <th></th>\n",
       "      <th></th>\n",
       "      <th></th>\n",
       "      <th></th>\n",
       "      <th></th>\n",
       "      <th></th>\n",
       "      <th></th>\n",
       "      <th></th>\n",
       "      <th></th>\n",
       "    </tr>\n",
       "  </thead>\n",
       "  <tbody>\n",
       "    <tr>\n",
       "      <th>paytm</th>\n",
       "      <td>ecommerce</td>\n",
       "      <td>mobile wallet &amp; ecommerce platform</td>\n",
       "      <td>ba</td>\n",
       "      <td>softbank</td>\n",
       "      <td>p</td>\n",
       "      <td>1.400000e+09</td>\n",
       "      <td>5</td>\n",
       "      <td>2017</td>\n",
       "      <td>2</td>\n",
       "      <td>18</td>\n",
       "      <td>201705</td>\n",
       "    </tr>\n",
       "    <tr>\n",
       "      <th>oyo rooms</th>\n",
       "      <td>consumer internet</td>\n",
       "      <td>branded budget hotels aggregator</td>\n",
       "      <td>gu</td>\n",
       "      <td>softbank</td>\n",
       "      <td>p</td>\n",
       "      <td>2.500000e+08</td>\n",
       "      <td>4</td>\n",
       "      <td>2017</td>\n",
       "      <td>2</td>\n",
       "      <td>24</td>\n",
       "      <td>201704</td>\n",
       "    </tr>\n",
       "    <tr>\n",
       "      <th>snapdeal</th>\n",
       "      <td>ecommerce</td>\n",
       "      <td>horizontal online marketplace</td>\n",
       "      <td>ne</td>\n",
       "      <td>ontario</td>\n",
       "      <td>p</td>\n",
       "      <td>2.000000e+08</td>\n",
       "      <td>2</td>\n",
       "      <td>2016</td>\n",
       "      <td>1</td>\n",
       "      <td>15</td>\n",
       "      <td>201602</td>\n",
       "    </tr>\n",
       "    <tr>\n",
       "      <th>makemytrip</th>\n",
       "      <td>consumer internet</td>\n",
       "      <td>online travel/hotel booking platform</td>\n",
       "      <td>gu</td>\n",
       "      <td>ctrip.com</td>\n",
       "      <td>p</td>\n",
       "      <td>1.800000e+08</td>\n",
       "      <td>7</td>\n",
       "      <td>2016</td>\n",
       "      <td>3</td>\n",
       "      <td>1</td>\n",
       "      <td>201607</td>\n",
       "    </tr>\n",
       "    <tr>\n",
       "      <th>hike</th>\n",
       "      <td>consumer internet</td>\n",
       "      <td>mobile messaging app</td>\n",
       "      <td>ne</td>\n",
       "      <td>tencent</td>\n",
       "      <td>p</td>\n",
       "      <td>1.750000e+08</td>\n",
       "      <td>8</td>\n",
       "      <td>2016</td>\n",
       "      <td>3</td>\n",
       "      <td>16</td>\n",
       "      <td>201608</td>\n",
       "    </tr>\n",
       "  </tbody>\n",
       "</table>\n",
       "</div>"
      ],
      "text/plain": [
       "              IndustryVertical                           SubVertical  \\\n",
       "StartupName                                                            \n",
       "paytm                ecommerce    mobile wallet & ecommerce platform   \n",
       "oyo rooms    consumer internet      branded budget hotels aggregator   \n",
       "snapdeal             ecommerce         horizontal online marketplace   \n",
       "makemytrip   consumer internet  online travel/hotel booking platform   \n",
       "hike         consumer internet                  mobile messaging app   \n",
       "\n",
       "            CityLocation InvestorsName InvestmentType   AmountInUSD  month  \\\n",
       "StartupName                                                                  \n",
       "paytm                 ba      softbank              p  1.400000e+09      5   \n",
       "oyo rooms             gu      softbank              p  2.500000e+08      4   \n",
       "snapdeal              ne       ontario              p  2.000000e+08      2   \n",
       "makemytrip            gu     ctrip.com              p  1.800000e+08      7   \n",
       "hike                  ne       tencent              p  1.750000e+08      8   \n",
       "\n",
       "             year  quarter  day  yearmonth  \n",
       "StartupName                                 \n",
       "paytm        2017        2   18     201705  \n",
       "oyo rooms    2017        2   24     201704  \n",
       "snapdeal     2016        1   15     201602  \n",
       "makemytrip   2016        3    1     201607  \n",
       "hike         2016        3   16     201608  "
      ]
     },
     "execution_count": 67,
     "metadata": {},
     "output_type": "execute_result"
    }
   ],
   "source": [
    "topstartup.head()"
   ]
  },
  {
   "cell_type": "code",
   "execution_count": 68,
   "metadata": {},
   "outputs": [
    {
     "name": "stdout",
     "output_type": "stream",
     "text": [
      "IndustryVertical\n",
      "******************************\n",
      "consumer internet    17\n",
      "technology            4\n",
      "ecommerce             3\n",
      "healthcare            2\n",
      "Name: IndustryVertical, dtype: int64\n",
      "\n",
      "\n",
      "SubVertical\n",
      "******************************\n",
      "Series([], Name: SubVertical, dtype: int64)\n",
      "\n",
      "\n",
      "CityLocation\n",
      "******************************\n",
      "ba    14\n",
      "mu    11\n",
      "gu     7\n",
      "ne     6\n",
      "ch     4\n",
      "pu     3\n",
      "Name: CityLocation, dtype: int64\n",
      "\n",
      "\n",
      "InvestorsName\n",
      "******************************\n",
      "sequoia     4\n",
      "softbank    3\n",
      "temasek,    2\n",
      "ta          2\n",
      "tencent     2\n",
      "warburg     2\n",
      "goldman     2\n",
      "Name: InvestorsName, dtype: int64\n",
      "\n",
      "\n",
      "InvestmentType\n",
      "******************************\n",
      "p    53\n",
      "Name: InvestmentType, dtype: int64\n",
      "\n",
      "\n",
      "AmountInUSD\n",
      "******************************\n",
      "50000000.0     8\n",
      "40000000.0     7\n",
      "35000000.0     4\n",
      "100000000.0    4\n",
      "60000000.0     3\n",
      "55000000.0     3\n",
      "56000000.0     2\n",
      "70000000.0     2\n",
      "Name: AmountInUSD, dtype: int64\n",
      "\n",
      "\n",
      "month\n",
      "******************************\n",
      "8     7\n",
      "2     7\n",
      "1     7\n",
      "11    5\n",
      "7     5\n",
      "3     5\n",
      "9     4\n",
      "6     4\n",
      "5     4\n",
      "4     3\n",
      "10    2\n",
      "Name: month, dtype: int64\n",
      "\n",
      "\n",
      "year\n",
      "******************************\n",
      "2015    26\n",
      "2017    15\n",
      "2016    12\n",
      "Name: year, dtype: int64\n",
      "\n",
      "\n",
      "quarter\n",
      "******************************\n",
      "1    19\n",
      "3    16\n",
      "2    11\n",
      "4     7\n",
      "Name: quarter, dtype: int64\n",
      "\n",
      "\n",
      "day\n",
      "******************************\n",
      "26    4\n",
      "6     4\n",
      "9     4\n",
      "15    3\n",
      "22    3\n",
      "2     3\n",
      "5     3\n",
      "7     3\n",
      "1     3\n",
      "30    2\n",
      "28    2\n",
      "16    2\n",
      "29    2\n",
      "14    2\n",
      "24    2\n",
      "Name: day, dtype: int64\n",
      "\n",
      "\n",
      "yearmonth\n",
      "******************************\n",
      "201608    4\n",
      "201501    4\n",
      "201502    4\n",
      "201705    3\n",
      "201503    3\n",
      "201511    3\n",
      "201510    2\n",
      "201701    2\n",
      "201602    2\n",
      "201611    2\n",
      "201504    2\n",
      "201506    2\n",
      "201507    2\n",
      "201508    2\n",
      "201509    2\n",
      "201706    2\n",
      "201707    2\n",
      "201703    2\n",
      "Name: yearmonth, dtype: int64\n",
      "\n",
      "\n"
     ]
    }
   ],
   "source": [
    "#Top frequency of all variables in this top topstartup dataframe\n",
    "for x in topstartup.columns:\n",
    "    print(x)\n",
    "    print('*'*30)\n",
    "    print(topstartup[x].value_counts()[topstartup[x].value_counts()>1])\n",
    "    print('\\n')"
   ]
  },
  {
   "cell_type": "code",
   "execution_count": null,
   "metadata": {},
   "outputs": [],
   "source": []
  },
  {
   "cell_type": "code",
   "execution_count": 69,
   "metadata": {},
   "outputs": [
    {
     "name": "stdout",
     "output_type": "stream",
     "text": [
      "IndustryVertical\n",
      "******************************\n",
      "consumer internet    32.075472\n",
      "technology            7.547170\n",
      "ecommerce             5.660377\n",
      "healthcare            3.773585\n",
      "Name: IndustryVertical, dtype: float64\n",
      "\n",
      "\n",
      "SubVertical\n",
      "******************************\n",
      "Series([], Name: SubVertical, dtype: float64)\n",
      "\n",
      "\n",
      "CityLocation\n",
      "******************************\n",
      "ba    26.415094\n",
      "mu    20.754717\n",
      "gu    13.207547\n",
      "ne    11.320755\n",
      "ch     7.547170\n",
      "pu     5.660377\n",
      "Name: CityLocation, dtype: float64\n",
      "\n",
      "\n",
      "InvestorsName\n",
      "******************************\n",
      "sequoia     7.547170\n",
      "softbank    5.660377\n",
      "temasek,    3.773585\n",
      "ta          3.773585\n",
      "tencent     3.773585\n",
      "warburg     3.773585\n",
      "goldman     3.773585\n",
      "Name: InvestorsName, dtype: float64\n",
      "\n",
      "\n",
      "InvestmentType\n",
      "******************************\n",
      "p    100.0\n",
      "Name: InvestmentType, dtype: float64\n",
      "\n",
      "\n",
      "AmountInUSD\n",
      "******************************\n",
      "50000000.0     15.094340\n",
      "40000000.0     13.207547\n",
      "35000000.0      7.547170\n",
      "100000000.0     7.547170\n",
      "60000000.0      5.660377\n",
      "55000000.0      5.660377\n",
      "56000000.0      3.773585\n",
      "70000000.0      3.773585\n",
      "Name: AmountInUSD, dtype: float64\n",
      "\n",
      "\n",
      "month\n",
      "******************************\n",
      "8     13.207547\n",
      "2     13.207547\n",
      "1     13.207547\n",
      "11     9.433962\n",
      "7      9.433962\n",
      "3      9.433962\n",
      "9      7.547170\n",
      "6      7.547170\n",
      "5      7.547170\n",
      "4      5.660377\n",
      "10     3.773585\n",
      "Name: month, dtype: float64\n",
      "\n",
      "\n",
      "year\n",
      "******************************\n",
      "2015    49.056604\n",
      "2017    28.301887\n",
      "2016    22.641509\n",
      "Name: year, dtype: float64\n",
      "\n",
      "\n",
      "quarter\n",
      "******************************\n",
      "1    35.849057\n",
      "3    30.188679\n",
      "2    20.754717\n",
      "4    13.207547\n",
      "Name: quarter, dtype: float64\n",
      "\n",
      "\n",
      "day\n",
      "******************************\n",
      "26    7.547170\n",
      "6     7.547170\n",
      "9     7.547170\n",
      "15    5.660377\n",
      "22    5.660377\n",
      "2     5.660377\n",
      "5     5.660377\n",
      "7     5.660377\n",
      "1     5.660377\n",
      "30    3.773585\n",
      "28    3.773585\n",
      "16    3.773585\n",
      "29    3.773585\n",
      "14    3.773585\n",
      "24    3.773585\n",
      "Name: day, dtype: float64\n",
      "\n",
      "\n",
      "yearmonth\n",
      "******************************\n",
      "201608    7.547170\n",
      "201501    7.547170\n",
      "201502    7.547170\n",
      "201705    5.660377\n",
      "201503    5.660377\n",
      "201511    5.660377\n",
      "201510    3.773585\n",
      "201701    3.773585\n",
      "201602    3.773585\n",
      "201611    3.773585\n",
      "201504    3.773585\n",
      "201506    3.773585\n",
      "201507    3.773585\n",
      "201508    3.773585\n",
      "201509    3.773585\n",
      "201706    3.773585\n",
      "201707    3.773585\n",
      "201703    3.773585\n",
      "Name: yearmonth, dtype: float64\n",
      "\n",
      "\n"
     ]
    }
   ],
   "source": [
    "#Percentage of top frequency of all variables in top topstartup dataframe\n",
    "for x in topstartup.columns:\n",
    "    print(x)\n",
    "    print('*'*30)\n",
    "    print((topstartup[x].value_counts()[topstartup[x].value_counts()/len(topstartup[x])*100>2])/len(topstartup[x])*100)\n",
    "    print('\\n')"
   ]
  },
  {
   "cell_type": "markdown",
   "metadata": {},
   "source": [
    "### Machine Learning"
   ]
  },
  {
   "cell_type": "code",
   "execution_count": 70,
   "metadata": {},
   "outputs": [],
   "source": [
    "#Dropping the null values\n",
    "df_train=df_train.dropna()"
   ]
  },
  {
   "cell_type": "code",
   "execution_count": 71,
   "metadata": {},
   "outputs": [],
   "source": [
    "#As all our features are categorical we need to covert them into numerical type before fitting it into ml algorithm\n",
    "from feature_engine import categorical_encoders as ce"
   ]
  },
  {
   "cell_type": "code",
   "execution_count": 72,
   "metadata": {},
   "outputs": [
    {
     "name": "stderr",
     "output_type": "stream",
     "text": [
      "C:\\Users\\Omkar\\Anaconda3\\lib\\site-packages\\sklearn\\cross_validation.py:41: DeprecationWarning: This module was deprecated in version 0.18 in favor of the model_selection module into which all the refactored classes and functions are moved. Also note that the interface of the new CV iterators are different from that of this module. This module will be removed in 0.20.\n",
      "  \"This module will be removed in 0.20.\", DeprecationWarning)\n"
     ]
    }
   ],
   "source": [
    "#First we will split our data in training and testing dataset\n",
    "from sklearn.cross_validation import train_test_split"
   ]
  },
  {
   "cell_type": "code",
   "execution_count": 73,
   "metadata": {},
   "outputs": [],
   "source": [
    "X_df_train=df_train.drop('AmountInUSD',axis=1)\n",
    "y_df_train=df_train['AmountInUSD']"
   ]
  },
  {
   "cell_type": "code",
   "execution_count": 74,
   "metadata": {},
   "outputs": [],
   "source": [
    "X_train, X_test, y_train, y_test = train_test_split(X_df_train, y_df_train, test_size=0.3, random_state=42)"
   ]
  },
  {
   "cell_type": "code",
   "execution_count": 75,
   "metadata": {},
   "outputs": [
    {
     "data": {
      "text/plain": [
       "(608, 11)"
      ]
     },
     "execution_count": 75,
     "metadata": {},
     "output_type": "execute_result"
    }
   ],
   "source": [
    "#It is important to check if our training and testing data is in same shape\n",
    "X_train.shape"
   ]
  },
  {
   "cell_type": "code",
   "execution_count": 76,
   "metadata": {},
   "outputs": [
    {
     "data": {
      "text/plain": [
       "(261, 11)"
      ]
     },
     "execution_count": 76,
     "metadata": {},
     "output_type": "execute_result"
    }
   ],
   "source": [
    "X_test.shape"
   ]
  },
  {
   "cell_type": "code",
   "execution_count": 77,
   "metadata": {},
   "outputs": [],
   "source": [
    "#Replaces categories by the mean of the target. \n",
    "\n",
    "#For example in the variable colour, if the mean of the target for blue, red\n",
    "#and grey is 0.5, 0.8 and 0.1 respectively, blue is replaced by 0.5, red by 0.8\n",
    "#and grey by 0.1.\n",
    "ohe=ce.MeanCategoricalEncoder()"
   ]
  },
  {
   "cell_type": "code",
   "execution_count": 78,
   "metadata": {},
   "outputs": [],
   "source": [
    "X_train=ohe.fit_transform(X_train,y_train)"
   ]
  },
  {
   "cell_type": "code",
   "execution_count": 79,
   "metadata": {},
   "outputs": [],
   "source": [
    "X_test=ohe.fit_transform(X_test,y_test)"
   ]
  },
  {
   "cell_type": "code",
   "execution_count": 80,
   "metadata": {},
   "outputs": [
    {
     "name": "stderr",
     "output_type": "stream",
     "text": [
      "C:\\Users\\Omkar\\Anaconda3\\lib\\site-packages\\sklearn\\ensemble\\weight_boosting.py:29: DeprecationWarning: numpy.core.umath_tests is an internal NumPy module and should not be imported. It will be removed in a future NumPy release.\n",
      "  from numpy.core.umath_tests import inner1d\n"
     ]
    }
   ],
   "source": [
    "#To ease our job we will create a class \n",
    "#This class has function based on various machine learning algorithm\n",
    "#We are using 5 algorithms which are as follows\n",
    "#1) Logistic Regression\n",
    "#2) Ada Boost Regressor\n",
    "#3) Decision Tree Regressor\n",
    "#4) Random Forest Regressor\n",
    "#5) K nearest neighbor Regressor\n",
    "#\n",
    "#The specific function when called will do the following:-\n",
    "#1) Fit the training data\n",
    "#2) Predict the training data\n",
    "#3) Predict the testing data\n",
    "#4) Give output as r2 score, mae and mse for training as well as testing data. \n",
    "\n",
    "from sklearn.linear_model import LinearRegression\n",
    "from sklearn.ensemble import AdaBoostRegressor\n",
    "from sklearn.ensemble import RandomForestRegressor\n",
    "from sklearn.tree import DecisionTreeRegressor\n",
    "# to evaluate the models\n",
    "from sklearn.neighbors import KNeighborsRegressor\n",
    "from sklearn.metrics import r2_score\n",
    "from sklearn import metrics\n",
    "from sklearn.metrics import mean_absolute_error,mean_squared_error\n",
    "\n",
    "\n",
    "\n",
    "\n",
    "class selmod():    \n",
    "    def linr(x_tra,y_tra,x_tes,y_tes):\n",
    "        print('Linear Regression')\n",
    "        print('\\n')\n",
    "        lr=LinearRegression()\n",
    "        lr.fit(x_tra,y_tra)\n",
    "        \n",
    "        print('Training Validation','\\n')\n",
    "        predtlr=lr.predict(x_tra)\n",
    "        print('R2: ','\\n',r2_score(y_tra,predtlr))\n",
    "        print('\\n')\n",
    "        print('mae:',mean_absolute_error(y_tra,predtlr))\n",
    "        print('\\n')\n",
    "        print('mse:',mean_squared_error(y_tra,predtlr))\n",
    "\n",
    "        print('*'*80)\n",
    "        \n",
    "        print('Testing Validation')\n",
    "        print('\\n')\n",
    "        predlr=lr.predict(x_tes)\n",
    "        print('R2: ','\\n',r2_score(y_tes,predlr))\n",
    "        print('\\n')\n",
    "        print('mae:',mean_absolute_error(y_tes,predlr))\n",
    "        print('\\n')\n",
    "        print('mse:',mean_squared_error(y_tes,predlr))\n",
    "        print('*'*80)\n",
    "        \n",
    "    def dectree(x_tra,y_tra,x_tes,y_tes):\n",
    "        print('Decision Tree Regressor')\n",
    "        print('\\n')\n",
    "        dt=DecisionTreeRegressor()\n",
    "        dt.fit(x_tra,y_tra)\n",
    "        \n",
    "        print('Training Validation','\\n')\n",
    "        predtdc=dt.predict(x_tra)\n",
    "        print('R2: ','\\n',r2_score(y_tra,predtdc))\n",
    "        print('\\n')\n",
    "        print('mae:',mean_absolute_error(y_tra,predtdc))\n",
    "        print('\\n')\n",
    "        print('mse:',mean_squared_error(y_tra,predtdc))\n",
    "        print('*'*80)\n",
    "        \n",
    "        print('Testing Validation')\n",
    "        print('\\n')\n",
    "        preddc=dt.predict(x_tes)\n",
    "        print('R2: ','\\n',r2_score(y_tes,preddc))\n",
    "        print('\\n')\n",
    "        print('mae:',mean_absolute_error(y_tes,preddc))\n",
    "        print('\\n')\n",
    "        print('mse:',mean_squared_error(y_tes,preddc))\n",
    "        print('*'*80)\n",
    "    \n",
    "    def ranfo(x_tra,y_tra,x_tes,y_tes):\n",
    "        print('Random Forest Regressor')\n",
    "        print('\\n')\n",
    "        rf=RandomForestRegressor()\n",
    "        rf.fit(x_tra,y_tra)\n",
    "        \n",
    "        print('Training Validation','\\n')\n",
    "        predtrf=rf.predict(x_tra)\n",
    "        print('R2: ','\\n',r2_score(y_tra,predtrf))\n",
    "        print('\\n')\n",
    "        print('mae:',mean_absolute_error(y_tra,predtrf))\n",
    "        print('\\n')\n",
    "        print('mse:',mean_squared_error(y_tra,predtrf))\n",
    "        print('*'*80)\n",
    "        \n",
    "        print('Testing Validation')\n",
    "        print('\\n')\n",
    "        predrf=rf.predict(x_tes)\n",
    "        print('R2: ','\\n',r2_score(y_tes,predrf))\n",
    "        print('\\n')\n",
    "        print('mae:',mean_absolute_error(y_tes,predrf))\n",
    "        print('\\n')\n",
    "        print('mse:',mean_squared_error(y_tes,predrf))\n",
    "        print('*'*80)\n",
    "    \n",
    "    def ada(x_tra,y_tra,x_tes,y_tes):\n",
    "        print('Ada Boost Regressor')\n",
    "        print('\\n')\n",
    "        ad=AdaBoostRegressor()\n",
    "        ad.fit(x_tra,y_tra)\n",
    "        \n",
    "        print('Training Validation','\\n')\n",
    "        predtad=ad.predict(x_tra)\n",
    "        print('R2: ','\\n',r2_score(y_tra,predtad))\n",
    "        print('\\n')\n",
    "        print('mae:',mean_absolute_error(y_tra,predtad))\n",
    "        print('\\n')\n",
    "        print('mse:',mean_squared_error(y_tra,predtad))\n",
    "        print('*'*80)\n",
    "        \n",
    "        print('Testing Validation')\n",
    "        print('\\n')\n",
    "        predad=ad.predict(x_tes)\n",
    "        print('R2: ','\\n',r2_score(y_tes,predad))\n",
    "        print('\\n')\n",
    "        print('mae:',mean_absolute_error(y_tes,predad))\n",
    "        print('\\n')\n",
    "        print('mse:',mean_squared_error(y_tes,predad))\n",
    "        print('*'*80)\n",
    "    \n",
    "    def kneigh(x_tra,y_tra,x_tes,y_tes):\n",
    "        print('KNN Regressor')\n",
    "        print('\\n')\n",
    "        knn=KNeighborsRegressor()\n",
    "        knn.fit(x_tra,y_tra)\n",
    "        \n",
    "        print('Training Validation','\\n')\n",
    "        predtknn=knn.predict(x_tra)\n",
    "        print('R2: ','\\n',r2_score(y_tra,predtknn))\n",
    "        print('\\n')\n",
    "        print('mae:',mean_absolute_error(y_tra,predtknn))\n",
    "        print('\\n')\n",
    "        print('mse:',mean_squared_error(y_tra,predtknn))\n",
    "        print('*'*80)\n",
    "        \n",
    "        print('Testing Validation')\n",
    "        print('\\n')\n",
    "        predknn=knn.predict(x_tes)\n",
    "        print('R2: ','\\n',r2_score(y_tes,predknn))\n",
    "        print('\\n')\n",
    "        print('mae:',mean_absolute_error(y_tes,predknn))\n",
    "        print('\\n')\n",
    "        print('mse:',mean_squared_error(y_tes,predknn))\n",
    "        print('*'*80)"
   ]
  },
  {
   "cell_type": "code",
   "execution_count": 81,
   "metadata": {},
   "outputs": [
    {
     "name": "stdout",
     "output_type": "stream",
     "text": [
      "Linear Regression\n",
      "\n",
      "\n",
      "Training Validation \n",
      "\n",
      "R2:  \n",
      " 0.9608855536986284\n",
      "\n",
      "\n",
      "mae: 3767997.298789429\n",
      "\n",
      "\n",
      "mse: 149874961550049.72\n",
      "********************************************************************************\n",
      "Testing Validation\n",
      "\n",
      "\n",
      "R2:  \n",
      " 0.9760238103322526\n",
      "\n",
      "\n",
      "mae: 3269519.0014561466\n",
      "\n",
      "\n",
      "mse: 191811140035559.47\n",
      "********************************************************************************\n"
     ]
    }
   ],
   "source": [
    "#Linear Regression\n",
    "selmod.linr(X_train,y_train,X_test,y_test)"
   ]
  },
  {
   "cell_type": "code",
   "execution_count": 82,
   "metadata": {},
   "outputs": [
    {
     "name": "stdout",
     "output_type": "stream",
     "text": [
      "Decision Tree Regressor\n",
      "\n",
      "\n",
      "Training Validation \n",
      "\n",
      "R2:  \n",
      " 1.0\n",
      "\n",
      "\n",
      "mae: 0.0\n",
      "\n",
      "\n",
      "mse: 0.0\n",
      "********************************************************************************\n",
      "Testing Validation\n",
      "\n",
      "\n",
      "R2:  \n",
      " 0.997617784987525\n",
      "\n",
      "\n",
      "mae: 702277.7777777778\n",
      "\n",
      "\n",
      "mse: 19057881326628.35\n",
      "********************************************************************************\n"
     ]
    }
   ],
   "source": [
    "#Decision Tree\n",
    "selmod.dectree(X_train,y_train,X_test,y_test)"
   ]
  },
  {
   "cell_type": "code",
   "execution_count": 83,
   "metadata": {},
   "outputs": [
    {
     "name": "stdout",
     "output_type": "stream",
     "text": [
      "Random Forest Regressor\n",
      "\n",
      "\n",
      "Training Validation \n",
      "\n",
      "R2:  \n",
      " 0.9293621430260347\n",
      "\n",
      "\n",
      "mae: 1608445.9703947369\n",
      "\n",
      "\n",
      "mse: 270663325165866.6\n",
      "********************************************************************************\n",
      "Testing Validation\n",
      "\n",
      "\n",
      "R2:  \n",
      " 0.9395463228908367\n",
      "\n",
      "\n",
      "mae: 1959442.678927203\n",
      "\n",
      "\n",
      "mse: 483633508340512.56\n",
      "********************************************************************************\n"
     ]
    }
   ],
   "source": [
    "#Random Forest\n",
    "selmod.ranfo(X_train,y_train,X_test,y_test)"
   ]
  },
  {
   "cell_type": "code",
   "execution_count": 84,
   "metadata": {},
   "outputs": [
    {
     "name": "stdout",
     "output_type": "stream",
     "text": [
      "KNN Regressor\n",
      "\n",
      "\n",
      "Training Validation \n",
      "\n",
      "R2:  \n",
      " 0.6006936242173951\n",
      "\n",
      "\n",
      "mae: 3330355.814473684\n",
      "\n",
      "\n",
      "mse: 1530023645381606.0\n",
      "********************************************************************************\n",
      "Testing Validation\n",
      "\n",
      "\n",
      "R2:  \n",
      " 0.5324659657777484\n",
      "\n",
      "\n",
      "mae: 4639138.013793103\n",
      "\n",
      "\n",
      "mse: 3740303916190190.0\n",
      "********************************************************************************\n"
     ]
    }
   ],
   "source": [
    "#KNN \n",
    "selmod.kneigh(X_train,y_train,X_test,y_test)"
   ]
  },
  {
   "cell_type": "code",
   "execution_count": 85,
   "metadata": {},
   "outputs": [
    {
     "name": "stdout",
     "output_type": "stream",
     "text": [
      "Ada Boost Regressor\n",
      "\n",
      "\n",
      "Training Validation \n",
      "\n",
      "R2:  \n",
      " 0.9887692607231118\n",
      "\n",
      "\n",
      "mae: 4065424.0247239806\n",
      "\n",
      "\n",
      "mse: 43032863212056.6\n",
      "********************************************************************************\n",
      "Testing Validation\n",
      "\n",
      "\n",
      "R2:  \n",
      " 0.9912584932570144\n",
      "\n",
      "\n",
      "mae: 3741870.004807971\n",
      "\n",
      "\n",
      "mse: 69932645563615.28\n",
      "********************************************************************************\n"
     ]
    }
   ],
   "source": [
    "#Ada Boost\n",
    "selmod.ada(X_train,y_train,X_test,y_test)"
   ]
  },
  {
   "cell_type": "code",
   "execution_count": 86,
   "metadata": {},
   "outputs": [],
   "source": [
    "#For this dataset Linear Regression is the best model where our testing accuracy is 0.976 and training accuracy is 0.960\n"
   ]
  },
  {
   "cell_type": "code",
   "execution_count": 90,
   "metadata": {},
   "outputs": [],
   "source": [
    "def create_word_cloud(X):\n",
    "    \"\"\"\n",
    "    Create a word cloud\n",
    "    \"\"\"\n",
    "    text = []\n",
    "    for sentence in X:\n",
    "        text.extend(sentence)\n",
    "    textall = \" \".join(text)\n",
    "    wordcloud = WordCloud(max_font_size=40).generate(textall)\n",
    "    plt.imshow(wordcloud, interpolation='bilinear')\n",
    "    plt.axis(\"off\")\n",
    "    plt.show()"
   ]
  },
  {
   "cell_type": "code",
   "execution_count": 88,
   "metadata": {},
   "outputs": [],
   "source": [
    "from wordcloud import WordCloud"
   ]
  },
  {
   "cell_type": "code",
   "execution_count": 99,
   "metadata": {},
   "outputs": [
    {
     "ename": "TypeError",
     "evalue": "expected string or bytes-like object",
     "output_type": "error",
     "traceback": [
      "\u001b[1;31m---------------------------------------------------------------------------\u001b[0m",
      "\u001b[1;31mTypeError\u001b[0m                                 Traceback (most recent call last)",
      "\u001b[1;32m<ipython-input-99-3e2226726a72>\u001b[0m in \u001b[0;36m<module>\u001b[1;34m()\u001b[0m\n\u001b[0;32m      2\u001b[0m \u001b[1;33m\u001b[0m\u001b[0m\n\u001b[0;32m      3\u001b[0m \u001b[1;31m# Create and generate a word cloud image:\u001b[0m\u001b[1;33m\u001b[0m\u001b[1;33m\u001b[0m\u001b[0m\n\u001b[1;32m----> 4\u001b[1;33m \u001b[0mwordcloud\u001b[0m \u001b[1;33m=\u001b[0m \u001b[0mWordCloud\u001b[0m\u001b[1;33m(\u001b[0m\u001b[1;33m)\u001b[0m\u001b[1;33m.\u001b[0m\u001b[0mgenerate\u001b[0m\u001b[1;33m(\u001b[0m\u001b[0mtext\u001b[0m\u001b[1;33m)\u001b[0m\u001b[1;33m\u001b[0m\u001b[0m\n\u001b[0m\u001b[0;32m      5\u001b[0m \u001b[1;33m\u001b[0m\u001b[0m\n\u001b[0;32m      6\u001b[0m \u001b[1;31m# Display the generated image:\u001b[0m\u001b[1;33m\u001b[0m\u001b[1;33m\u001b[0m\u001b[0m\n",
      "\u001b[1;32m~\\Anaconda3\\lib\\site-packages\\wordcloud\\wordcloud.py\u001b[0m in \u001b[0;36mgenerate\u001b[1;34m(self, text)\u001b[0m\n\u001b[0;32m    603\u001b[0m         \u001b[0mself\u001b[0m\u001b[1;33m\u001b[0m\u001b[0m\n\u001b[0;32m    604\u001b[0m         \"\"\"\n\u001b[1;32m--> 605\u001b[1;33m         \u001b[1;32mreturn\u001b[0m \u001b[0mself\u001b[0m\u001b[1;33m.\u001b[0m\u001b[0mgenerate_from_text\u001b[0m\u001b[1;33m(\u001b[0m\u001b[0mtext\u001b[0m\u001b[1;33m)\u001b[0m\u001b[1;33m\u001b[0m\u001b[0m\n\u001b[0m\u001b[0;32m    606\u001b[0m \u001b[1;33m\u001b[0m\u001b[0m\n\u001b[0;32m    607\u001b[0m     \u001b[1;32mdef\u001b[0m \u001b[0m_check_generated\u001b[0m\u001b[1;33m(\u001b[0m\u001b[0mself\u001b[0m\u001b[1;33m)\u001b[0m\u001b[1;33m:\u001b[0m\u001b[1;33m\u001b[0m\u001b[0m\n",
      "\u001b[1;32m~\\Anaconda3\\lib\\site-packages\\wordcloud\\wordcloud.py\u001b[0m in \u001b[0;36mgenerate_from_text\u001b[1;34m(self, text)\u001b[0m\n\u001b[0;32m    584\u001b[0m         \u001b[0mself\u001b[0m\u001b[1;33m\u001b[0m\u001b[0m\n\u001b[0;32m    585\u001b[0m         \"\"\"\n\u001b[1;32m--> 586\u001b[1;33m         \u001b[0mwords\u001b[0m \u001b[1;33m=\u001b[0m \u001b[0mself\u001b[0m\u001b[1;33m.\u001b[0m\u001b[0mprocess_text\u001b[0m\u001b[1;33m(\u001b[0m\u001b[0mtext\u001b[0m\u001b[1;33m)\u001b[0m\u001b[1;33m\u001b[0m\u001b[0m\n\u001b[0m\u001b[0;32m    587\u001b[0m         \u001b[0mself\u001b[0m\u001b[1;33m.\u001b[0m\u001b[0mgenerate_from_frequencies\u001b[0m\u001b[1;33m(\u001b[0m\u001b[0mwords\u001b[0m\u001b[1;33m)\u001b[0m\u001b[1;33m\u001b[0m\u001b[0m\n\u001b[0;32m    588\u001b[0m         \u001b[1;32mreturn\u001b[0m \u001b[0mself\u001b[0m\u001b[1;33m\u001b[0m\u001b[0m\n",
      "\u001b[1;32m~\\Anaconda3\\lib\\site-packages\\wordcloud\\wordcloud.py\u001b[0m in \u001b[0;36mprocess_text\u001b[1;34m(self, text)\u001b[0m\n\u001b[0;32m    551\u001b[0m         \u001b[0mregexp\u001b[0m \u001b[1;33m=\u001b[0m \u001b[0mself\u001b[0m\u001b[1;33m.\u001b[0m\u001b[0mregexp\u001b[0m \u001b[1;32mif\u001b[0m \u001b[0mself\u001b[0m\u001b[1;33m.\u001b[0m\u001b[0mregexp\u001b[0m \u001b[1;32mis\u001b[0m \u001b[1;32mnot\u001b[0m \u001b[1;32mNone\u001b[0m \u001b[1;32melse\u001b[0m \u001b[1;34mr\"\\w[\\w']+\"\u001b[0m\u001b[1;33m\u001b[0m\u001b[0m\n\u001b[0;32m    552\u001b[0m \u001b[1;33m\u001b[0m\u001b[0m\n\u001b[1;32m--> 553\u001b[1;33m         \u001b[0mwords\u001b[0m \u001b[1;33m=\u001b[0m \u001b[0mre\u001b[0m\u001b[1;33m.\u001b[0m\u001b[0mfindall\u001b[0m\u001b[1;33m(\u001b[0m\u001b[0mregexp\u001b[0m\u001b[1;33m,\u001b[0m \u001b[0mtext\u001b[0m\u001b[1;33m,\u001b[0m \u001b[0mflags\u001b[0m\u001b[1;33m)\u001b[0m\u001b[1;33m\u001b[0m\u001b[0m\n\u001b[0m\u001b[0;32m    554\u001b[0m         \u001b[1;31m# remove stopwords\u001b[0m\u001b[1;33m\u001b[0m\u001b[1;33m\u001b[0m\u001b[0m\n\u001b[0;32m    555\u001b[0m         \u001b[0mwords\u001b[0m \u001b[1;33m=\u001b[0m \u001b[1;33m[\u001b[0m\u001b[0mword\u001b[0m \u001b[1;32mfor\u001b[0m \u001b[0mword\u001b[0m \u001b[1;32min\u001b[0m \u001b[0mwords\u001b[0m \u001b[1;32mif\u001b[0m \u001b[0mword\u001b[0m\u001b[1;33m.\u001b[0m\u001b[0mlower\u001b[0m\u001b[1;33m(\u001b[0m\u001b[1;33m)\u001b[0m \u001b[1;32mnot\u001b[0m \u001b[1;32min\u001b[0m \u001b[0mstopwords\u001b[0m\u001b[1;33m]\u001b[0m\u001b[1;33m\u001b[0m\u001b[0m\n",
      "\u001b[1;32m~\\Anaconda3\\lib\\re.py\u001b[0m in \u001b[0;36mfindall\u001b[1;34m(pattern, string, flags)\u001b[0m\n\u001b[0;32m    220\u001b[0m \u001b[1;33m\u001b[0m\u001b[0m\n\u001b[0;32m    221\u001b[0m     Empty matches are included in the result.\"\"\"\n\u001b[1;32m--> 222\u001b[1;33m     \u001b[1;32mreturn\u001b[0m \u001b[0m_compile\u001b[0m\u001b[1;33m(\u001b[0m\u001b[0mpattern\u001b[0m\u001b[1;33m,\u001b[0m \u001b[0mflags\u001b[0m\u001b[1;33m)\u001b[0m\u001b[1;33m.\u001b[0m\u001b[0mfindall\u001b[0m\u001b[1;33m(\u001b[0m\u001b[0mstring\u001b[0m\u001b[1;33m)\u001b[0m\u001b[1;33m\u001b[0m\u001b[0m\n\u001b[0m\u001b[0;32m    223\u001b[0m \u001b[1;33m\u001b[0m\u001b[0m\n\u001b[0;32m    224\u001b[0m \u001b[1;32mdef\u001b[0m \u001b[0mfinditer\u001b[0m\u001b[1;33m(\u001b[0m\u001b[0mpattern\u001b[0m\u001b[1;33m,\u001b[0m \u001b[0mstring\u001b[0m\u001b[1;33m,\u001b[0m \u001b[0mflags\u001b[0m\u001b[1;33m=\u001b[0m\u001b[1;36m0\u001b[0m\u001b[1;33m)\u001b[0m\u001b[1;33m:\u001b[0m\u001b[1;33m\u001b[0m\u001b[0m\n",
      "\u001b[1;31mTypeError\u001b[0m: expected string or bytes-like object"
     ]
    }
   ],
   "source": [
    "text = df.StartupName[0:100]\n",
    "\n",
    "# Create and generate a word cloud image:\n",
    "wordcloud = WordCloud().generate(text)\n",
    "\n",
    "# Display the generated image:\n",
    "plt.imshow(wordcloud, interpolation='bilinear')\n",
    "plt.axis(\"off\")\n",
    "plt.show()"
   ]
  },
  {
   "cell_type": "code",
   "execution_count": 109,
   "metadata": {},
   "outputs": [],
   "source": [
    "text = []\n",
    "for sentence in df.StartupName[0:100]:\n",
    "    text.extend(sentence)\n",
    "    "
   ]
  },
  {
   "cell_type": "code",
   "execution_count": 113,
   "metadata": {},
   "outputs": [
    {
     "ename": "TypeError",
     "evalue": "expected string or bytes-like object",
     "output_type": "error",
     "traceback": [
      "\u001b[1;31m---------------------------------------------------------------------------\u001b[0m",
      "\u001b[1;31mTypeError\u001b[0m                                 Traceback (most recent call last)",
      "\u001b[1;32m<ipython-input-113-12029c3ac018>\u001b[0m in \u001b[0;36m<module>\u001b[1;34m()\u001b[0m\n\u001b[1;32m----> 1\u001b[1;33m \u001b[0mwordcloud\u001b[0m \u001b[1;33m=\u001b[0m \u001b[0mWordCloud\u001b[0m\u001b[1;33m(\u001b[0m\u001b[1;33m)\u001b[0m\u001b[1;33m.\u001b[0m\u001b[0mgenerate\u001b[0m\u001b[1;33m(\u001b[0m\u001b[0mdf\u001b[0m\u001b[1;33m.\u001b[0m\u001b[0mStartupName\u001b[0m\u001b[1;33m[\u001b[0m\u001b[1;36m0\u001b[0m\u001b[1;33m:\u001b[0m\u001b[1;36m100\u001b[0m\u001b[1;33m]\u001b[0m\u001b[1;33m)\u001b[0m\u001b[1;33m\u001b[0m\u001b[0m\n\u001b[0m\u001b[0;32m      2\u001b[0m \u001b[1;33m\u001b[0m\u001b[0m\n\u001b[0;32m      3\u001b[0m \u001b[1;31m# Display the generated image:\u001b[0m\u001b[1;33m\u001b[0m\u001b[1;33m\u001b[0m\u001b[0m\n\u001b[0;32m      4\u001b[0m \u001b[0mplt\u001b[0m\u001b[1;33m.\u001b[0m\u001b[0mimshow\u001b[0m\u001b[1;33m(\u001b[0m\u001b[0mwordcloud\u001b[0m\u001b[1;33m,\u001b[0m \u001b[0minterpolation\u001b[0m\u001b[1;33m=\u001b[0m\u001b[1;34m'bilinear'\u001b[0m\u001b[1;33m)\u001b[0m\u001b[1;33m\u001b[0m\u001b[0m\n\u001b[0;32m      5\u001b[0m \u001b[0mplt\u001b[0m\u001b[1;33m.\u001b[0m\u001b[0maxis\u001b[0m\u001b[1;33m(\u001b[0m\u001b[1;34m\"off\"\u001b[0m\u001b[1;33m)\u001b[0m\u001b[1;33m\u001b[0m\u001b[0m\n",
      "\u001b[1;32m~\\Anaconda3\\lib\\site-packages\\wordcloud\\wordcloud.py\u001b[0m in \u001b[0;36mgenerate\u001b[1;34m(self, text)\u001b[0m\n\u001b[0;32m    603\u001b[0m         \u001b[0mself\u001b[0m\u001b[1;33m\u001b[0m\u001b[0m\n\u001b[0;32m    604\u001b[0m         \"\"\"\n\u001b[1;32m--> 605\u001b[1;33m         \u001b[1;32mreturn\u001b[0m \u001b[0mself\u001b[0m\u001b[1;33m.\u001b[0m\u001b[0mgenerate_from_text\u001b[0m\u001b[1;33m(\u001b[0m\u001b[0mtext\u001b[0m\u001b[1;33m)\u001b[0m\u001b[1;33m\u001b[0m\u001b[0m\n\u001b[0m\u001b[0;32m    606\u001b[0m \u001b[1;33m\u001b[0m\u001b[0m\n\u001b[0;32m    607\u001b[0m     \u001b[1;32mdef\u001b[0m \u001b[0m_check_generated\u001b[0m\u001b[1;33m(\u001b[0m\u001b[0mself\u001b[0m\u001b[1;33m)\u001b[0m\u001b[1;33m:\u001b[0m\u001b[1;33m\u001b[0m\u001b[0m\n",
      "\u001b[1;32m~\\Anaconda3\\lib\\site-packages\\wordcloud\\wordcloud.py\u001b[0m in \u001b[0;36mgenerate_from_text\u001b[1;34m(self, text)\u001b[0m\n\u001b[0;32m    584\u001b[0m         \u001b[0mself\u001b[0m\u001b[1;33m\u001b[0m\u001b[0m\n\u001b[0;32m    585\u001b[0m         \"\"\"\n\u001b[1;32m--> 586\u001b[1;33m         \u001b[0mwords\u001b[0m \u001b[1;33m=\u001b[0m \u001b[0mself\u001b[0m\u001b[1;33m.\u001b[0m\u001b[0mprocess_text\u001b[0m\u001b[1;33m(\u001b[0m\u001b[0mtext\u001b[0m\u001b[1;33m)\u001b[0m\u001b[1;33m\u001b[0m\u001b[0m\n\u001b[0m\u001b[0;32m    587\u001b[0m         \u001b[0mself\u001b[0m\u001b[1;33m.\u001b[0m\u001b[0mgenerate_from_frequencies\u001b[0m\u001b[1;33m(\u001b[0m\u001b[0mwords\u001b[0m\u001b[1;33m)\u001b[0m\u001b[1;33m\u001b[0m\u001b[0m\n\u001b[0;32m    588\u001b[0m         \u001b[1;32mreturn\u001b[0m \u001b[0mself\u001b[0m\u001b[1;33m\u001b[0m\u001b[0m\n",
      "\u001b[1;32m~\\Anaconda3\\lib\\site-packages\\wordcloud\\wordcloud.py\u001b[0m in \u001b[0;36mprocess_text\u001b[1;34m(self, text)\u001b[0m\n\u001b[0;32m    551\u001b[0m         \u001b[0mregexp\u001b[0m \u001b[1;33m=\u001b[0m \u001b[0mself\u001b[0m\u001b[1;33m.\u001b[0m\u001b[0mregexp\u001b[0m \u001b[1;32mif\u001b[0m \u001b[0mself\u001b[0m\u001b[1;33m.\u001b[0m\u001b[0mregexp\u001b[0m \u001b[1;32mis\u001b[0m \u001b[1;32mnot\u001b[0m \u001b[1;32mNone\u001b[0m \u001b[1;32melse\u001b[0m \u001b[1;34mr\"\\w[\\w']+\"\u001b[0m\u001b[1;33m\u001b[0m\u001b[0m\n\u001b[0;32m    552\u001b[0m \u001b[1;33m\u001b[0m\u001b[0m\n\u001b[1;32m--> 553\u001b[1;33m         \u001b[0mwords\u001b[0m \u001b[1;33m=\u001b[0m \u001b[0mre\u001b[0m\u001b[1;33m.\u001b[0m\u001b[0mfindall\u001b[0m\u001b[1;33m(\u001b[0m\u001b[0mregexp\u001b[0m\u001b[1;33m,\u001b[0m \u001b[0mtext\u001b[0m\u001b[1;33m,\u001b[0m \u001b[0mflags\u001b[0m\u001b[1;33m)\u001b[0m\u001b[1;33m\u001b[0m\u001b[0m\n\u001b[0m\u001b[0;32m    554\u001b[0m         \u001b[1;31m# remove stopwords\u001b[0m\u001b[1;33m\u001b[0m\u001b[1;33m\u001b[0m\u001b[0m\n\u001b[0;32m    555\u001b[0m         \u001b[0mwords\u001b[0m \u001b[1;33m=\u001b[0m \u001b[1;33m[\u001b[0m\u001b[0mword\u001b[0m \u001b[1;32mfor\u001b[0m \u001b[0mword\u001b[0m \u001b[1;32min\u001b[0m \u001b[0mwords\u001b[0m \u001b[1;32mif\u001b[0m \u001b[0mword\u001b[0m\u001b[1;33m.\u001b[0m\u001b[0mlower\u001b[0m\u001b[1;33m(\u001b[0m\u001b[1;33m)\u001b[0m \u001b[1;32mnot\u001b[0m \u001b[1;32min\u001b[0m \u001b[0mstopwords\u001b[0m\u001b[1;33m]\u001b[0m\u001b[1;33m\u001b[0m\u001b[0m\n",
      "\u001b[1;32m~\\Anaconda3\\lib\\re.py\u001b[0m in \u001b[0;36mfindall\u001b[1;34m(pattern, string, flags)\u001b[0m\n\u001b[0;32m    220\u001b[0m \u001b[1;33m\u001b[0m\u001b[0m\n\u001b[0;32m    221\u001b[0m     Empty matches are included in the result.\"\"\"\n\u001b[1;32m--> 222\u001b[1;33m     \u001b[1;32mreturn\u001b[0m \u001b[0m_compile\u001b[0m\u001b[1;33m(\u001b[0m\u001b[0mpattern\u001b[0m\u001b[1;33m,\u001b[0m \u001b[0mflags\u001b[0m\u001b[1;33m)\u001b[0m\u001b[1;33m.\u001b[0m\u001b[0mfindall\u001b[0m\u001b[1;33m(\u001b[0m\u001b[0mstring\u001b[0m\u001b[1;33m)\u001b[0m\u001b[1;33m\u001b[0m\u001b[0m\n\u001b[0m\u001b[0;32m    223\u001b[0m \u001b[1;33m\u001b[0m\u001b[0m\n\u001b[0;32m    224\u001b[0m \u001b[1;32mdef\u001b[0m \u001b[0mfinditer\u001b[0m\u001b[1;33m(\u001b[0m\u001b[0mpattern\u001b[0m\u001b[1;33m,\u001b[0m \u001b[0mstring\u001b[0m\u001b[1;33m,\u001b[0m \u001b[0mflags\u001b[0m\u001b[1;33m=\u001b[0m\u001b[1;36m0\u001b[0m\u001b[1;33m)\u001b[0m\u001b[1;33m:\u001b[0m\u001b[1;33m\u001b[0m\u001b[0m\n",
      "\u001b[1;31mTypeError\u001b[0m: expected string or bytes-like object"
     ]
    }
   ],
   "source": [
    "wordcloud = WordCloud().generate(df.StartupName[0:100])\n",
    "\n",
    "# Display the generated image:\n",
    "plt.imshow(wordcloud, interpolation='bilinear')\n",
    "plt.axis(\"off\")\n",
    "plt.show()"
   ]
  },
  {
   "cell_type": "code",
   "execution_count": 106,
   "metadata": {},
   "outputs": [
    {
     "ename": "ValueError",
     "evalue": "We need at least 1 word to plot a word cloud, got 0.",
     "output_type": "error",
     "traceback": [
      "\u001b[1;31m---------------------------------------------------------------------------\u001b[0m",
      "\u001b[1;31mValueError\u001b[0m                                Traceback (most recent call last)",
      "\u001b[1;32m<ipython-input-106-e1555ed1b8ba>\u001b[0m in \u001b[0;36m<module>\u001b[1;34m()\u001b[0m\n\u001b[0;32m      3\u001b[0m \u001b[1;33m\u001b[0m\u001b[0m\n\u001b[0;32m      4\u001b[0m \u001b[1;31m# Create and generate a word cloud image:\u001b[0m\u001b[1;33m\u001b[0m\u001b[1;33m\u001b[0m\u001b[0m\n\u001b[1;32m----> 5\u001b[1;33m \u001b[0mwordcloud\u001b[0m \u001b[1;33m=\u001b[0m \u001b[0mWordCloud\u001b[0m\u001b[1;33m(\u001b[0m\u001b[1;33m)\u001b[0m\u001b[1;33m.\u001b[0m\u001b[0mgenerate\u001b[0m\u001b[1;33m(\u001b[0m\u001b[0mtextall\u001b[0m\u001b[1;33m)\u001b[0m\u001b[1;33m\u001b[0m\u001b[0m\n\u001b[0m\u001b[0;32m      6\u001b[0m \u001b[1;33m\u001b[0m\u001b[0m\n\u001b[0;32m      7\u001b[0m \u001b[1;31m# Display the generated image:\u001b[0m\u001b[1;33m\u001b[0m\u001b[1;33m\u001b[0m\u001b[0m\n",
      "\u001b[1;32m~\\Anaconda3\\lib\\site-packages\\wordcloud\\wordcloud.py\u001b[0m in \u001b[0;36mgenerate\u001b[1;34m(self, text)\u001b[0m\n\u001b[0;32m    603\u001b[0m         \u001b[0mself\u001b[0m\u001b[1;33m\u001b[0m\u001b[0m\n\u001b[0;32m    604\u001b[0m         \"\"\"\n\u001b[1;32m--> 605\u001b[1;33m         \u001b[1;32mreturn\u001b[0m \u001b[0mself\u001b[0m\u001b[1;33m.\u001b[0m\u001b[0mgenerate_from_text\u001b[0m\u001b[1;33m(\u001b[0m\u001b[0mtext\u001b[0m\u001b[1;33m)\u001b[0m\u001b[1;33m\u001b[0m\u001b[0m\n\u001b[0m\u001b[0;32m    606\u001b[0m \u001b[1;33m\u001b[0m\u001b[0m\n\u001b[0;32m    607\u001b[0m     \u001b[1;32mdef\u001b[0m \u001b[0m_check_generated\u001b[0m\u001b[1;33m(\u001b[0m\u001b[0mself\u001b[0m\u001b[1;33m)\u001b[0m\u001b[1;33m:\u001b[0m\u001b[1;33m\u001b[0m\u001b[0m\n",
      "\u001b[1;32m~\\Anaconda3\\lib\\site-packages\\wordcloud\\wordcloud.py\u001b[0m in \u001b[0;36mgenerate_from_text\u001b[1;34m(self, text)\u001b[0m\n\u001b[0;32m    585\u001b[0m         \"\"\"\n\u001b[0;32m    586\u001b[0m         \u001b[0mwords\u001b[0m \u001b[1;33m=\u001b[0m \u001b[0mself\u001b[0m\u001b[1;33m.\u001b[0m\u001b[0mprocess_text\u001b[0m\u001b[1;33m(\u001b[0m\u001b[0mtext\u001b[0m\u001b[1;33m)\u001b[0m\u001b[1;33m\u001b[0m\u001b[0m\n\u001b[1;32m--> 587\u001b[1;33m         \u001b[0mself\u001b[0m\u001b[1;33m.\u001b[0m\u001b[0mgenerate_from_frequencies\u001b[0m\u001b[1;33m(\u001b[0m\u001b[0mwords\u001b[0m\u001b[1;33m)\u001b[0m\u001b[1;33m\u001b[0m\u001b[0m\n\u001b[0m\u001b[0;32m    588\u001b[0m         \u001b[1;32mreturn\u001b[0m \u001b[0mself\u001b[0m\u001b[1;33m\u001b[0m\u001b[0m\n\u001b[0;32m    589\u001b[0m \u001b[1;33m\u001b[0m\u001b[0m\n",
      "\u001b[1;32m~\\Anaconda3\\lib\\site-packages\\wordcloud\\wordcloud.py\u001b[0m in \u001b[0;36mgenerate_from_frequencies\u001b[1;34m(self, frequencies, max_font_size)\u001b[0m\n\u001b[0;32m    381\u001b[0m         \u001b[1;32mif\u001b[0m \u001b[0mlen\u001b[0m\u001b[1;33m(\u001b[0m\u001b[0mfrequencies\u001b[0m\u001b[1;33m)\u001b[0m \u001b[1;33m<=\u001b[0m \u001b[1;36m0\u001b[0m\u001b[1;33m:\u001b[0m\u001b[1;33m\u001b[0m\u001b[0m\n\u001b[0;32m    382\u001b[0m             raise ValueError(\"We need at least 1 word to plot a word cloud, \"\n\u001b[1;32m--> 383\u001b[1;33m                              \"got %d.\" % len(frequencies))\n\u001b[0m\u001b[0;32m    384\u001b[0m         \u001b[0mfrequencies\u001b[0m \u001b[1;33m=\u001b[0m \u001b[0mfrequencies\u001b[0m\u001b[1;33m[\u001b[0m\u001b[1;33m:\u001b[0m\u001b[0mself\u001b[0m\u001b[1;33m.\u001b[0m\u001b[0mmax_words\u001b[0m\u001b[1;33m]\u001b[0m\u001b[1;33m\u001b[0m\u001b[0m\n\u001b[0;32m    385\u001b[0m \u001b[1;33m\u001b[0m\u001b[0m\n",
      "\u001b[1;31mValueError\u001b[0m: We need at least 1 word to plot a word cloud, got 0."
     ]
    }
   ],
   "source": [
    "# Start with one review:\n",
    "\n",
    "\n",
    "# Create and generate a word cloud image:\n",
    "wordcloud = WordCloud().generate(textall)\n",
    "\n",
    "# Display the generated image:\n",
    "plt.imshow(wordcloud, interpolation='bilinear')\n",
    "plt.axis(\"off\")\n",
    "plt.show()"
   ]
  },
  {
   "cell_type": "code",
   "execution_count": null,
   "metadata": {},
   "outputs": [],
   "source": []
  }
 ],
 "metadata": {
  "kernelspec": {
   "display_name": "Python 3",
   "language": "python",
   "name": "python3"
  },
  "language_info": {
   "codemirror_mode": {
    "name": "ipython",
    "version": 3
   },
   "file_extension": ".py",
   "mimetype": "text/x-python",
   "name": "python",
   "nbconvert_exporter": "python",
   "pygments_lexer": "ipython3",
   "version": "3.6.3"
  }
 },
 "nbformat": 4,
 "nbformat_minor": 2
}
